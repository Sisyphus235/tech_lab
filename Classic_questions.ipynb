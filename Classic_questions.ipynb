{
 "cells": [
  {
   "cell_type": "markdown",
   "metadata": {},
   "source": [
    "1.设计一个类，要求只能生成该类的一个实例(Singleton)"
   ]
  },
  {
   "cell_type": "code",
   "execution_count": null,
   "metadata": {},
   "outputs": [],
   "source": [
    "class OnlyOne:\n",
    "    class __OnlyOne:\n",
    "        def __init__(self, arg):\n",
    "            self.val = arg\n",
    "        def __str__(self):\n",
    "            return repr(self) + self.val\n",
    "    instance = None\n",
    "    def __init__(self, arg):\n",
    "        if not OnlyOne.instance:\n",
    "            OnlyOne.instance = OnlyOne.__OnlyOne(arg)\n",
    "        else:\n",
    "            OnlyOne.instance.val = arg\n",
    "    def __getattr__(self, name):\n",
    "        return getattr(self.instance, name)\n",
    "\n",
    "x = OnlyOne('sausage')\n",
    "print(x)\n",
    "y = OnlyOne('eggs')\n",
    "print(y)\n",
    "z = OnlyOne('spam')\n",
    "print(z)\n",
    "print(x)\n",
    "print(y)\n",
    "print('x')\n",
    "print('y')\n",
    "print('z')"
   ]
  },
  {
   "cell_type": "markdown",
   "metadata": {},
   "source": [
    "2.在一个二维数组中，每一行都按照从左到右递增顺序，每一列按照从上到下递增的顺序排序。请完成一个函数，输入这样的一个二维数组和一个整数，判断数组中是否有该整数"
   ]
  },
  {
   "cell_type": "code",
   "execution_count": null,
   "metadata": {
    "scrolled": true
   },
   "outputs": [],
   "source": [
    "class Array:\n",
    "    def __init__(self, array):\n",
    "        try:\n",
    "            self.row_len, self.column_len = Array.validate(array)\n",
    "            self.array = array\n",
    "        except Exception as e:\n",
    "            print('illegal array')\n",
    "            \n",
    "    @staticmethod\n",
    "    def validate(array):         \n",
    "        def neighbour_val(i, row_len, j, column_len, array):\n",
    "            # 没有判断row为1和column为1的边界情况\n",
    "            down, right, current = None, None, array[i][j]\n",
    "            if i != row_len - 1:\n",
    "                down = array[i+1][j]\n",
    "            if j != column_len - 1:\n",
    "                right = array[i][j+1]\n",
    "#             print(f'i:{i},j:{j},down:{down},right:{right},current:{current}')\n",
    "            if down != None:\n",
    "                if down < current:\n",
    "                    raise\n",
    "            if right != None:\n",
    "                if right < current:\n",
    "                    raise\n",
    "                    \n",
    "        if not array:\n",
    "            raise\n",
    "        row_len = len(array) if all(type(e)==list for e in array) else 1\n",
    "        column_len = len(array[0]) if row_len > 1 else len(array)\n",
    "#         print(f'row:{row_len}, column:{column_len}')\n",
    "        for i, row in enumerate(array):\n",
    "            for j, e in enumerate(row):\n",
    "#                 print(i, j, row, e)\n",
    "                neighbour_val(i, row_len, j, column_len, array)\n",
    "        return row_len, column_len\n",
    "                \n",
    "    def a_print(self):\n",
    "        for row in self.array:\n",
    "            print(''.join(str(row)), end='\\n')"
   ]
  },
  {
   "cell_type": "code",
   "execution_count": null,
   "metadata": {
    "scrolled": true
   },
   "outputs": [],
   "source": [
    "def find(array, n):\n",
    "    row_len = array.row_len\n",
    "    column_len = array.column_len\n",
    "    row, col = 0, -1\n",
    "#     print(f'array row {row_len}, col {column_len}')\n",
    "    while n != array.array[row][col]:\n",
    "#         print(f'init {array.array[row][col]}')\n",
    "        if n > array.array[row][col]:\n",
    "            row += 1\n",
    "        if row > row_len - 1:\n",
    "            return False\n",
    "        if n < array.array[row][col]:\n",
    "            col -= 1\n",
    "#         print(f'row {row}, col {col}')\n",
    "        if col < -column_len:\n",
    "            return False\n",
    "    return True\n",
    "\n",
    "a = Array([[1, 2, 8, 9], [2, 4, 9, 12], [4, 7, 10, 13], [6, 8, 11, 15]])\n",
    "a.a_print()\n",
    "find(a, 8)"
   ]
  },
  {
   "cell_type": "markdown",
   "metadata": {},
   "source": [
    "3.请实现一个函数，把字符串中的每个空格替换成\"%20\"，例如输入\"we are happy\",则输出\"we%20are%20happy\"。"
   ]
  },
  {
   "cell_type": "code",
   "execution_count": null,
   "metadata": {},
   "outputs": [],
   "source": [
    "import doctest\n",
    "\n",
    "def blank(s):\n",
    "    \"\"\"\n",
    "    >>> blank('we are happy')\n",
    "    'we%20are%20happy'\n",
    "    >>> blank(' how are  you? ')\n",
    "    '%20how%20are%20%20you?%20'\n",
    "    \"\"\"\n",
    "    return s.replace(' ', '%20')\n",
    "\n",
    "if __name__ == \"__main__\":\n",
    "    doctest.testmod()"
   ]
  },
  {
   "cell_type": "markdown",
   "metadata": {},
   "source": [
    "python难以体现这道题目的考点，不要从前向后不断替换字符，复杂度是n^2。如果从前向后计算好替换后字符长度，然后从后向前复制替换，复杂度是n。"
   ]
  },
  {
   "cell_type": "markdown",
   "metadata": {},
   "source": [
    "4.链表结构，实现首端和尾端插入"
   ]
  },
  {
   "cell_type": "code",
   "execution_count": 2,
   "metadata": {
    "scrolled": true
   },
   "outputs": [
    {
     "name": "stdout",
     "output_type": "stream",
     "text": [
      "the end\n",
      "2 the end\n",
      "1 2 the end\n",
      "0 1 2 the end\n",
      "0 1 2 3 the end\n",
      "0 1 2 3 4 the end\n"
     ]
    }
   ],
   "source": [
    "class Node:\n",
    "    def __init__(self, val):\n",
    "        self.val = val\n",
    "        self.next = None\n",
    "        \n",
    "class LList:\n",
    "    def __init__(self):\n",
    "        self.head = None\n",
    "    def is_void(self):\n",
    "        return sefl.head == None\n",
    "    def llist_print(self):\n",
    "        cur = self.head\n",
    "        while cur:\n",
    "            print(cur.val, end= ' ')\n",
    "            cur = cur.next\n",
    "        print('the end')\n",
    "    def front_insert(self, val):\n",
    "        if not self.head:\n",
    "            self.head = Node(val)\n",
    "        else:\n",
    "            new = Node(val)\n",
    "            new.next = self.head\n",
    "            self.head = new\n",
    "    def back_append(self, val):\n",
    "        if not self.head:\n",
    "            self.head = Node(val)\n",
    "        elif not self.head.next:\n",
    "            self.head.next = Node(val)\n",
    "        else:\n",
    "            cur = self.head.next\n",
    "            while cur.next:\n",
    "                cur = cur.next\n",
    "            cur.next = Node(val)\n",
    "            \n",
    "a = LList()\n",
    "a.llist_print()\n",
    "a.front_insert(2)\n",
    "a.llist_print()\n",
    "a.front_insert(1)\n",
    "a.llist_print()\n",
    "a.front_insert(0)\n",
    "a.llist_print()\n",
    "a.back_append(3)\n",
    "a.llist_print()\n",
    "a.back_append(4)\n",
    "a.llist_print()"
   ]
  },
  {
   "cell_type": "markdown",
   "metadata": {},
   "source": [
    "5.输入一个链表的头结点，从尾到头反过来打印出每个节点的值"
   ]
  },
  {
   "cell_type": "code",
   "execution_count": 8,
   "metadata": {
    "scrolled": true
   },
   "outputs": [
    {
     "name": "stdout",
     "output_type": "stream",
     "text": [
      "the end\n",
      "2 the end\n",
      "2 the end\n",
      "1 2 the end\n",
      "2 1 the end\n",
      "0 1 2 the end\n",
      "2 1 0 the end\n",
      "0 1 2 3 the end\n",
      "3 2 1 0 the end\n",
      "0 1 2 3 4 the end\n",
      "4 3 2 1 0 the end\n"
     ]
    }
   ],
   "source": [
    "\"\"\"\n",
    "倒序输出结果不容易，正常是正序输出，最容易想到的是栈，后进先出。\n",
    "\"\"\"\n",
    "class BList(LList):\n",
    "    def back_print(self):\n",
    "        cur = self.head\n",
    "        stack = list()\n",
    "        while cur:\n",
    "            stack.append(cur.val)\n",
    "            cur = cur.next\n",
    "        while stack:\n",
    "            print(stack.pop(), end = ' ')\n",
    "        print('the end')\n",
    "        \n",
    "b = BList()\n",
    "b.llist_print()\n",
    "b.front_insert(2)\n",
    "b.llist_print()\n",
    "b.back_print()\n",
    "b.front_insert(1)\n",
    "b.llist_print()\n",
    "b.back_print()\n",
    "b.front_insert(0)\n",
    "b.llist_print()\n",
    "b.back_print()\n",
    "b.back_append(3)\n",
    "b.llist_print()\n",
    "b.back_print()\n",
    "b.back_append(4)\n",
    "b.llist_print()\n",
    "b.back_print()"
   ]
  },
  {
   "cell_type": "markdown",
   "metadata": {},
   "source": [
    "6.树的前序遍历、中序遍历和后序遍历"
   ]
  },
  {
   "cell_type": "code",
   "execution_count": 32,
   "metadata": {},
   "outputs": [
    {
     "name": "stdout",
     "output_type": "stream",
     "text": [
      "10 6 4 8 14 12 16 \n",
      "10 6 4 8 14 12 16 \n",
      "4 6 8 10 12 14 16 \n",
      "4 6 8 10 12 14 16 \n",
      "4 8 6 12 16 14 10 \n",
      "4 8 6 12 16 14 10 "
     ]
    }
   ],
   "source": [
    "class Tree:\n",
    "    def __init__(self, data=None, left=None, right=None):\n",
    "        self.data = data\n",
    "        self.left = left\n",
    "        self.right = right \n",
    "        \n",
    "    def insert(self, data):\n",
    "        pass\n",
    "\n",
    "# 前序遍历（根、左、右）\n",
    "def pre_visit(Tree):\n",
    "    \"\"\"\n",
    "    递归\n",
    "    \"\"\"\n",
    "    if Tree:\n",
    "        print(Tree.data, end=' ')\n",
    "        pre_visit(Tree.left)\n",
    "        pre_visit(Tree.right)\n",
    "        \n",
    "def ipre_visit(Tree):\n",
    "    \"\"\"\n",
    "    非递归，入栈读根、左，出栈再读右\n",
    "    \"\"\"\n",
    "    stack = []\n",
    "    while stack or Tree:\n",
    "        while Tree:\n",
    "            print(Tree.data, end=' ')\n",
    "            stack.append(Tree)\n",
    "            Tree = Tree.left\n",
    "        h = stack.pop()\n",
    "        Tree = h.right\n",
    "        \n",
    "\n",
    "# 中序遍历（左、根、右）\n",
    "def in_visit(Tree):\n",
    "    \"\"\"\n",
    "    递归\n",
    "    \"\"\"\n",
    "    if Tree:\n",
    "        in_visit(Tree.left)\n",
    "        print(Tree.data, end = ' ')\n",
    "        in_visit(Tree.right)\n",
    "        \n",
    "def iin_visit(Tree):\n",
    "    \"\"\"\n",
    "    非递归，出栈读左、根\n",
    "    \"\"\"\n",
    "    stack = []\n",
    "    while stack or Tree:\n",
    "        while Tree:\n",
    "            stack.append(Tree)\n",
    "            Tree = Tree.left\n",
    "        h = stack.pop()\n",
    "        print(h.data, end=' ')\n",
    "        Tree = h.right\n",
    "\n",
    "# 后序遍历（左、右、根）\n",
    "def post_visit(Tree):\n",
    "    \"\"\"\n",
    "    递归\n",
    "    \"\"\"\n",
    "    if Tree:\n",
    "        post_visit(Tree.left)\n",
    "        post_visit(Tree.right)\n",
    "        print(Tree.data, end = ' ')\n",
    "        \n",
    "def ipost_visit(Tree):\n",
    "    \"\"\"\n",
    "    非递归，入栈前读根、右，出栈读左\n",
    "    \"\"\"\n",
    "    lstack = []\n",
    "    rstack = []\n",
    "    while lstack or Tree:\n",
    "        while Tree:\n",
    "            rstack.append(Tree.data)\n",
    "            lstack.append(Tree)\n",
    "            Tree = Tree.right\n",
    "        h = lstack.pop()\n",
    "        Tree = h.left\n",
    "    print(rstack[::-1])\n",
    "        \n",
    "t = Tree(10, Tree(6, Tree(4), Tree(8)), Tree(14, Tree(12), Tree(16)))\n",
    "pre_visit(t)\n",
    "print()\n",
    "ipre_visit(t)\n",
    "print()\n",
    "in_visit(t)\n",
    "print()\n",
    "iin_visit(t)\n",
    "print()\n",
    "post_visit(t)\n",
    "print()\n",
    "post_visit(t)"
   ]
  }
 ],
 "metadata": {
  "kernelspec": {
   "display_name": "Python 3",
   "language": "python",
   "name": "python3"
  },
  "language_info": {
   "codemirror_mode": {
    "name": "ipython",
    "version": 3
   },
   "file_extension": ".py",
   "mimetype": "text/x-python",
   "name": "python",
   "nbconvert_exporter": "python",
   "pygments_lexer": "ipython3",
   "version": "3.6.4"
  }
 },
 "nbformat": 4,
 "nbformat_minor": 2
}
