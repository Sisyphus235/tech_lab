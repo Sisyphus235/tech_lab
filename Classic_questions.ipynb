{
 "cells": [
  {
   "cell_type": "markdown",
   "metadata": {},
   "source": [
    "1.设计一个类，要求只能生成该类的一个实例(Singleton)"
   ]
  },
  {
   "cell_type": "code",
   "execution_count": null,
   "metadata": {},
   "outputs": [],
   "source": [
    "class OnlyOne:\n",
    "    class __OnlyOne:\n",
    "        def __init__(self, arg):\n",
    "            self.val = arg\n",
    "        def __str__(self):\n",
    "            return repr(self) + self.val\n",
    "    instance = None\n",
    "    def __init__(self, arg):\n",
    "        if not OnlyOne.instance:\n",
    "            OnlyOne.instance = OnlyOne.__OnlyOne(arg)\n",
    "        else:\n",
    "            OnlyOne.instance.val = arg\n",
    "    def __getattr__(self, name):\n",
    "        return getattr(self.instance, name)\n",
    "\n",
    "x = OnlyOne('sausage')\n",
    "print(x)\n",
    "y = OnlyOne('eggs')\n",
    "print(y)\n",
    "z = OnlyOne('spam')\n",
    "print(z)\n",
    "print(x)\n",
    "print(y)\n",
    "print('x')\n",
    "print('y')\n",
    "print('z')"
   ]
  },
  {
   "cell_type": "markdown",
   "metadata": {},
   "source": [
    "2.在一个二维数组中，每一行都按照从左到右递增顺序，每一列按照从上到下递增的顺序排序。请完成一个函数，输入这样的一个二维数组和一个整数，判断数组中是否有该整数"
   ]
  },
  {
   "cell_type": "code",
   "execution_count": null,
   "metadata": {
    "scrolled": true
   },
   "outputs": [],
   "source": [
    "class Array:\n",
    "    def __init__(self, array):\n",
    "        try:\n",
    "            self.row_len, self.column_len = Array.validate(array)\n",
    "            self.array = array\n",
    "        except Exception as e:\n",
    "            print('illegal array')\n",
    "            \n",
    "    @staticmethod\n",
    "    def validate(array):         \n",
    "        def neighbour_val(i, row_len, j, column_len, array):\n",
    "            # 没有判断row为1和column为1的边界情况\n",
    "            down, right, current = None, None, array[i][j]\n",
    "            if i != row_len - 1:\n",
    "                down = array[i+1][j]\n",
    "            if j != column_len - 1:\n",
    "                right = array[i][j+1]\n",
    "#             print(f'i:{i},j:{j},down:{down},right:{right},current:{current}')\n",
    "            if down != None:\n",
    "                if down < current:\n",
    "                    raise\n",
    "            if right != None:\n",
    "                if right < current:\n",
    "                    raise\n",
    "                    \n",
    "        if not array:\n",
    "            raise\n",
    "        row_len = len(array) if all(type(e)==list for e in array) else 1\n",
    "        column_len = len(array[0]) if row_len > 1 else len(array)\n",
    "#         print(f'row:{row_len}, column:{column_len}')\n",
    "        for i, row in enumerate(array):\n",
    "            for j, e in enumerate(row):\n",
    "#                 print(i, j, row, e)\n",
    "                neighbour_val(i, row_len, j, column_len, array)\n",
    "        return row_len, column_len\n",
    "                \n",
    "    def a_print(self):\n",
    "        for row in self.array:\n",
    "            print(''.join(str(row)), end='\\n')"
   ]
  },
  {
   "cell_type": "code",
   "execution_count": null,
   "metadata": {
    "scrolled": true
   },
   "outputs": [],
   "source": [
    "def find(array, n):\n",
    "    row_len = array.row_len\n",
    "    column_len = array.column_len\n",
    "    row, col = 0, -1\n",
    "#     print(f'array row {row_len}, col {column_len}')\n",
    "    while n != array.array[row][col]:\n",
    "#         print(f'init {array.array[row][col]}')\n",
    "        if n > array.array[row][col]:\n",
    "            row += 1\n",
    "        if row > row_len - 1:\n",
    "            return False\n",
    "        if n < array.array[row][col]:\n",
    "            col -= 1\n",
    "#         print(f'row {row}, col {col}')\n",
    "        if col < -column_len:\n",
    "            return False\n",
    "    return True\n",
    "\n",
    "a = Array([[1, 2, 8, 9], [2, 4, 9, 12], [4, 7, 10, 13], [6, 8, 11, 15]])\n",
    "a.a_print()\n",
    "find(a, 8)"
   ]
  },
  {
   "cell_type": "markdown",
   "metadata": {},
   "source": [
    "3.请实现一个函数，把字符串中的每个空格替换成\"%20\"，例如输入\"we are happy\",则输出\"we%20are%20happy\"。"
   ]
  },
  {
   "cell_type": "code",
   "execution_count": null,
   "metadata": {},
   "outputs": [],
   "source": [
    "import doctest\n",
    "\n",
    "def blank(s):\n",
    "    \"\"\"\n",
    "    >>> blank('we are happy')\n",
    "    'we%20are%20happy'\n",
    "    >>> blank(' how are  you? ')\n",
    "    '%20how%20are%20%20you?%20'\n",
    "    \"\"\"\n",
    "    return s.replace(' ', '%20')\n",
    "\n",
    "if __name__ == \"__main__\":\n",
    "    doctest.testmod()"
   ]
  },
  {
   "cell_type": "markdown",
   "metadata": {},
   "source": [
    "python难以体现这道题目的考点，不要从前向后不断替换字符，复杂度是n^2。如果从前向后计算好替换后字符长度，然后从后向前复制替换，复杂度是n。"
   ]
  },
  {
   "cell_type": "markdown",
   "metadata": {},
   "source": [
    "4.链表结构，实现首端和尾端插入"
   ]
  },
  {
   "cell_type": "code",
   "execution_count": 2,
   "metadata": {
    "scrolled": true
   },
   "outputs": [
    {
     "name": "stdout",
     "output_type": "stream",
     "text": [
      "the end\n",
      "2 the end\n",
      "1 2 the end\n",
      "0 1 2 the end\n",
      "0 1 2 3 the end\n",
      "0 1 2 3 4 the end\n"
     ]
    }
   ],
   "source": [
    "class Node:\n",
    "    def __init__(self, val):\n",
    "        self.val = val\n",
    "        self.next = None\n",
    "        \n",
    "class LList:\n",
    "    def __init__(self):\n",
    "        self.head = None\n",
    "    def is_void(self):\n",
    "        return sefl.head == None\n",
    "    def llist_print(self):\n",
    "        cur = self.head\n",
    "        while cur:\n",
    "            print(cur.val, end= ' ')\n",
    "            cur = cur.next\n",
    "        print('the end')\n",
    "    def front_insert(self, val):\n",
    "        if not self.head:\n",
    "            self.head = Node(val)\n",
    "        else:\n",
    "            new = Node(val)\n",
    "            new.next = self.head\n",
    "            self.head = new\n",
    "    def back_append(self, val):\n",
    "        if not self.head:\n",
    "            self.head = Node(val)\n",
    "        elif not self.head.next:\n",
    "            self.head.next = Node(val)\n",
    "        else:\n",
    "            cur = self.head.next\n",
    "            while cur.next:\n",
    "                cur = cur.next\n",
    "            cur.next = Node(val)\n",
    "            \n",
    "a = LList()\n",
    "a.llist_print()\n",
    "a.front_insert(2)\n",
    "a.llist_print()\n",
    "a.front_insert(1)\n",
    "a.llist_print()\n",
    "a.front_insert(0)\n",
    "a.llist_print()\n",
    "a.back_append(3)\n",
    "a.llist_print()\n",
    "a.back_append(4)\n",
    "a.llist_print()"
   ]
  },
  {
   "cell_type": "markdown",
   "metadata": {},
   "source": [
    "5.输入一个链表的头结点，从尾到头反过来打印出每个节点的值"
   ]
  },
  {
   "cell_type": "code",
   "execution_count": 8,
   "metadata": {
    "scrolled": true
   },
   "outputs": [
    {
     "name": "stdout",
     "output_type": "stream",
     "text": [
      "the end\n",
      "2 the end\n",
      "2 the end\n",
      "1 2 the end\n",
      "2 1 the end\n",
      "0 1 2 the end\n",
      "2 1 0 the end\n",
      "0 1 2 3 the end\n",
      "3 2 1 0 the end\n",
      "0 1 2 3 4 the end\n",
      "4 3 2 1 0 the end\n"
     ]
    }
   ],
   "source": [
    "\"\"\"\n",
    "倒序输出结果不容易，正常是正序输出，最容易想到的是栈，后进先出。\n",
    "\"\"\"\n",
    "class BList(LList):\n",
    "    def back_print(self):\n",
    "        cur = self.head\n",
    "        stack = list()\n",
    "        while cur:\n",
    "            stack.append(cur.val)\n",
    "            cur = cur.next\n",
    "        while stack:\n",
    "            print(stack.pop(), end = ' ')\n",
    "        print('the end')\n",
    "        \n",
    "b = BList()\n",
    "b.llist_print()\n",
    "b.front_insert(2)\n",
    "b.llist_print()\n",
    "b.back_print()\n",
    "b.front_insert(1)\n",
    "b.llist_print()\n",
    "b.back_print()\n",
    "b.front_insert(0)\n",
    "b.llist_print()\n",
    "b.back_print()\n",
    "b.back_append(3)\n",
    "b.llist_print()\n",
    "b.back_print()\n",
    "b.back_append(4)\n",
    "b.llist_print()\n",
    "b.back_print()"
   ]
  },
  {
   "cell_type": "markdown",
   "metadata": {},
   "source": [
    "6.树的前序遍历、中序遍历和后序遍历"
   ]
  },
  {
   "cell_type": "code",
   "execution_count": 33,
   "metadata": {},
   "outputs": [
    {
     "name": "stdout",
     "output_type": "stream",
     "text": [
      "10 6 4 8 14 12 16 \n",
      "10 6 4 8 14 12 16 \n",
      "4 6 8 10 12 14 16 \n",
      "4 6 8 10 12 14 16 \n",
      "4 8 6 12 16 14 10 \n",
      "4 8 6 12 16 14 10 \n",
      "10 6 14 4 8 12 16 "
     ]
    }
   ],
   "source": [
    "class Tree:\n",
    "    def __init__(self, data=None, left=None, right=None):\n",
    "        self.data = data\n",
    "        self.left = left\n",
    "        self.right = right \n",
    "        \n",
    "    def insert(self, data):\n",
    "        pass\n",
    "\n",
    "# 前序遍历（根、左、右）\n",
    "def pre_visit(Tree):\n",
    "    \"\"\"\n",
    "    递归\n",
    "    \"\"\"\n",
    "    if Tree:\n",
    "        print(Tree.data, end=' ')\n",
    "        pre_visit(Tree.left)\n",
    "        pre_visit(Tree.right)\n",
    "        \n",
    "def ipre_visit(Tree):\n",
    "    \"\"\"\n",
    "    非递归，入栈读根、左，出栈再读右\n",
    "    \"\"\"\n",
    "    stack = []\n",
    "    while stack or Tree:\n",
    "        while Tree:\n",
    "            print(Tree.data, end=' ')\n",
    "            stack.append(Tree)\n",
    "            Tree = Tree.left\n",
    "        h = stack.pop()\n",
    "        Tree = h.right\n",
    "        \n",
    "\n",
    "# 中序遍历（左、根、右）\n",
    "def in_visit(Tree):\n",
    "    \"\"\"\n",
    "    递归\n",
    "    \"\"\"\n",
    "    if Tree:\n",
    "        in_visit(Tree.left)\n",
    "        print(Tree.data, end=' ')\n",
    "        in_visit(Tree.right)\n",
    "        \n",
    "def iin_visit(Tree):\n",
    "    \"\"\"\n",
    "    非递归，出栈读左、根\n",
    "    \"\"\"\n",
    "    stack = []\n",
    "    while stack or Tree:\n",
    "        while Tree:\n",
    "            stack.append(Tree)\n",
    "            Tree = Tree.left\n",
    "        h = stack.pop()\n",
    "        print(h.data, end=' ')\n",
    "        Tree = h.right\n",
    "\n",
    "# 后序遍历（左、右、根）\n",
    "def post_visit(Tree):\n",
    "    \"\"\"\n",
    "    递归\n",
    "    \"\"\"\n",
    "    if Tree:\n",
    "        post_visit(Tree.left)\n",
    "        post_visit(Tree.right)\n",
    "        print(Tree.data, end=' ')\n",
    "        \n",
    "def ipost_visit(Tree):\n",
    "    \"\"\"\n",
    "    非递归，入栈前读根、右，出栈读左\n",
    "    \"\"\"\n",
    "    lstack = []\n",
    "    rstack = []\n",
    "    while lstack or Tree:\n",
    "        while Tree:\n",
    "            rstack.append(Tree.data)\n",
    "            lstack.append(Tree)\n",
    "            Tree = Tree.right\n",
    "        h = lstack.pop()\n",
    "        Tree = h.left\n",
    "    print(rstack[::-1])\n",
    "    \n",
    "# 广度优先遍历\n",
    "def bsearch(Tree):\n",
    "    stack = []\n",
    "    stack.append(Tree)\n",
    "    while stack:\n",
    "        head = stack.pop(0)\n",
    "        print(head.data, end=' ')\n",
    "        if head.left:\n",
    "            stack.append(head.left)\n",
    "        if head.right:\n",
    "            stack.append(head.right)\n",
    "        \n",
    "        \n",
    "t = Tree(10, Tree(6, Tree(4), Tree(8)), Tree(14, Tree(12), Tree(16)))\n",
    "pre_visit(t)\n",
    "print()\n",
    "ipre_visit(t)\n",
    "print()\n",
    "in_visit(t)\n",
    "print()\n",
    "iin_visit(t)\n",
    "print()\n",
    "post_visit(t)\n",
    "print()\n",
    "post_visit(t)\n",
    "print()\n",
    "bsearch(t)"
   ]
  },
  {
   "cell_type": "markdown",
   "metadata": {},
   "source": [
    "7.重建二叉树：输入某二叉树的前序遍历和中序遍历结果，请重建该二叉树。"
   ]
  },
  {
   "cell_type": "code",
   "execution_count": 37,
   "metadata": {},
   "outputs": [
    {
     "name": "stdout",
     "output_type": "stream",
     "text": [
      "4 8 6 12 16 14 10 "
     ]
    }
   ],
   "source": [
    "def get_tree(pre, mid):\n",
    "    if len(pre) == 0:\n",
    "        return None\n",
    "    if len(pre) == 1:\n",
    "        return Tree(pre[0])\n",
    "    data = Tree(pre[0])\n",
    "    data_index = mid.index(pre[0])\n",
    "    data.left = get_tree(pre[1:data_index + 1], mid[:data_index])\n",
    "    data.right = get_tree(pre[data_index + 1:], mid[data_index + 1:])\n",
    "    return data\n",
    "\n",
    "tree = get_tree([10,6,4,8,14,12,16], [4,6,8,10,12,14,16])\n",
    "post_visit(tree)"
   ]
  },
  {
   "cell_type": "markdown",
   "metadata": {},
   "source": [
    "8.用两个栈实现队列，需要完成队列的两个函数append_tail和delete_head，即在队列尾部插入和在队列头部删除。"
   ]
  },
  {
   "cell_type": "code",
   "execution_count": 1,
   "metadata": {},
   "outputs": [
    {
     "name": "stdout",
     "output_type": "stream",
     "text": [
      "1\n",
      "2\n"
     ]
    }
   ],
   "source": [
    "class Queue:\n",
    "    def __init__(self):\n",
    "        self.s1 = []\n",
    "        self.s2 = []\n",
    "    def append_tail(self, val):\n",
    "        self.s1.append(val)\n",
    "    def delete_head(self):\n",
    "        if self.s2:\n",
    "            return self.s2.pop()\n",
    "        elif self.s1:\n",
    "            while self.s1:\n",
    "                self.s2.append(self.s1.pop())\n",
    "            return self.s2.pop()\n",
    "        else:\n",
    "            return None\n",
    "\n",
    "q = Queue()\n",
    "q.append_tail(1)\n",
    "q.append_tail(2)\n",
    "q.append_tail(3)\n",
    "print(q.delete_head())\n",
    "print(q.delete_head())"
   ]
  },
  {
   "cell_type": "markdown",
   "metadata": {},
   "source": [
    "9.用两个队列实现一个栈"
   ]
  },
  {
   "cell_type": "code",
   "execution_count": 6,
   "metadata": {},
   "outputs": [
    {
     "name": "stdout",
     "output_type": "stream",
     "text": [
      "3\n",
      "2\n"
     ]
    }
   ],
   "source": [
    "class Stack:\n",
    "    def __init__(self):\n",
    "        self.q1 = []\n",
    "        self.q2 = []\n",
    "    def spush(self, val):\n",
    "        if self.q1:\n",
    "            self.q1.append(val)\n",
    "        if self.q2:\n",
    "            self.q2.append(val)\n",
    "        if not self.q1 and not self.q2:\n",
    "            self.q1.append(val)\n",
    "    def spop(self):\n",
    "        if self.q1:\n",
    "            length = len(self.q1)\n",
    "            for i in range(length - 1):\n",
    "                self.q2.append(self.q1.pop(0))\n",
    "            return self.q1.pop()\n",
    "        if self.q2:\n",
    "            length = len(self.q2)\n",
    "            for i in range(length - 1):\n",
    "                self.q1.append(self.q2.pop(0))\n",
    "            return self.q2.pop()\n",
    "        \n",
    "s = Stack()\n",
    "s.spush(1)\n",
    "s.spush(2)\n",
    "s.spush(3)\n",
    "print(s.spop())\n",
    "print(s.spop())"
   ]
  },
  {
   "cell_type": "markdown",
   "metadata": {},
   "source": [
    "10.将一个英语语句倒装，不使用额外的存储空间。例如\"London bridge is fallling down\"，倒装成\"down falling bridge London\""
   ]
  },
  {
   "cell_type": "code",
   "execution_count": 66,
   "metadata": {},
   "outputs": [
    {
     "name": "stdout",
     "output_type": "stream",
     "text": [
      "down falling is bridge London\n"
     ]
    }
   ],
   "source": [
    "def reverse(s):\n",
    "    \"\"\"\n",
    "    >>> reverse(\"London bridge is falling down\")\n",
    "    'down falling is bridge London'\n",
    "    \"\"\"\n",
    "    l = list(s)\n",
    "    length = len(l)\n",
    "    for i in range(length//2):\n",
    "        l[i], l[length-1-i] = l[length-1-i], l[i]\n",
    "    start = 0\n",
    "    for i in range(length):\n",
    "        if l[i] == ' ':\n",
    "            end = i\n",
    "            for j in range((end-start)//2):\n",
    "                l[start+j], l[end-1-j] = l[end-1-j], l[start+j]\n",
    "            start = i + 1\n",
    "    for j in range((length-start)//2):\n",
    "        l[start+j], l[-1-j] = l[-1-j], l[start+j]\n",
    "    return ''.join(l)\n",
    "\n",
    "if __name__ == \"__main__\":\n",
    "    import doctest\n",
    "    doctest.testmod()\n",
    "    \n",
    "print(reverse(\"London bridge is falling down\"))"
   ]
  },
  {
   "cell_type": "markdown",
   "metadata": {},
   "source": [
    "11.查找  \n",
    "分为两类  \n",
    "（1）Static Search Table，静态查找表  \n",
    "一般查询某个特定数据元素是否存在查找表中；或者检查某个特定数据元素和各种属性。  \n",
    "（2）Dynamic Search Table，动态查找表  \n",
    "一般在查找时插入数据元素；或者查找时删除数据元素。  "
   ]
  },
  {
   "cell_type": "markdown",
   "metadata": {},
   "source": [
    "11.1顺序表  \n",
    "11.1.1顺序查找是无序查找算法，适合链接存储的顺序表，时间复杂度是O(n)。"
   ]
  },
  {
   "cell_type": "code",
   "execution_count": 20,
   "metadata": {},
   "outputs": [],
   "source": [
    "def ordersearch(l, num):\n",
    "    \"\"\"\n",
    "    >>> ordersearch([1, 3, 7], 3)\n",
    "    1\n",
    "    >>> ordersearch([1, 3, 7], 2)\n",
    "    'not found'\n",
    "    \"\"\"\n",
    "    length = len(l)\n",
    "    for i in range(length):\n",
    "        if l[i] == num:\n",
    "            return i\n",
    "    else:\n",
    "        return \"not found\"\n",
    "    \n",
    "if __name__ == \"__main__\":\n",
    "    import doctest\n",
    "    doctest.testmod()"
   ]
  },
  {
   "cell_type": "markdown",
   "metadata": {},
   "source": [
    "11.2有序表查找  \n",
    "11.2.1二分查找是有序查找算法，适合变动不大的静态表，否则很难维护动态表的有序性，时间复杂度是O(logn)。 "
   ]
  },
  {
   "cell_type": "code",
   "execution_count": 49,
   "metadata": {},
   "outputs": [
    {
     "name": "stdout",
     "output_type": "stream",
     "text": [
      "5\n",
      "not found\n",
      "1\n",
      "Not Found\n",
      "5\n",
      "not found\n"
     ]
    }
   ],
   "source": [
    "def bisearch(l, num):\n",
    "    \"\"\"\n",
    "    迭代\n",
    "    \"\"\"\n",
    "    length = len(l)\n",
    "    start = 0\n",
    "    end = length - 1\n",
    "    while start <= end:\n",
    "        mid = (start + end) // 2\n",
    "        if l[mid] == num:\n",
    "            return mid\n",
    "        elif l[mid] < num:\n",
    "            start = mid + 1\n",
    "        else:\n",
    "            end = mid - 1\n",
    "    return \"not found\"\n",
    "\n",
    "def bisearch_re_w(l, num):  # 一般递归不能返回正确的原list的index值\n",
    "    \"\"\"\n",
    "    递归，无法返回正确index\n",
    "    \"\"\"\n",
    "    start = 0\n",
    "    end = len(l) - 1\n",
    "    if start >= end:\n",
    "        return \"Not Found\"\n",
    "    mid = (start + end) // 2\n",
    "    if l[mid] == num:\n",
    "        return mid\n",
    "    elif l[mid] < num:\n",
    "        return bisearch_re_w(l[mid+1:], num)\n",
    "    else:\n",
    "        return bisearch_re_w(l[:mid-1], num)\n",
    "\n",
    "def bisearch_re(l, num, start):  # 加入start参数是为了返回寻找值的index\n",
    "    \"\"\"\n",
    "    递归\n",
    "    \"\"\"\n",
    "    length = len(l)\n",
    "    if length == 0:\n",
    "        return \"not found\"\n",
    "    end = length - 1 + start\n",
    "    mid = (start + end) // 2\n",
    "#     print(f'start{start}, mid{mid}, end{end}')\n",
    "    if l[mid - start] == num:\n",
    "        return mid\n",
    "    elif l[mid - start] < num:\n",
    "        return bisearch_re(l[mid+1:], num, mid+1)\n",
    "    else:\n",
    "        return bisearch_re(l[:mid-1], num, 0)\n",
    "\n",
    "if __name__ == '__main__':\n",
    "    l = [1, 2, 3, 4, 5, 7, 11]\n",
    "    num = 7\n",
    "    num1 = 8\n",
    "    print(bisearch(l, num))\n",
    "    print(bisearch(l, num1))\n",
    "    print(bisearch_re_w(l, num))\n",
    "    print(bisearch_re_w(l, num1))\n",
    "    print(bisearch_re(l, num, 0))\n",
    "    print(bisearch_re(l, num1, 0))"
   ]
  },
  {
   "cell_type": "markdown",
   "metadata": {},
   "source": [
    "11.2.2插值查找是有序查找算法，是二分查找的优化，使得”二“变成自适应的，时间复杂度是O(logn)。 "
   ]
  },
  {
   "cell_type": "code",
   "execution_count": 74,
   "metadata": {},
   "outputs": [
    {
     "name": "stdout",
     "output_type": "stream",
     "text": [
      "5\n",
      "Not Found\n",
      "0\n",
      "Not Found\n",
      "5\n",
      "Not Found\n"
     ]
    }
   ],
   "source": [
    "def insert_search(l, num):\n",
    "    \"\"\"\n",
    "    迭代\n",
    "    \"\"\"\n",
    "    start = 0\n",
    "    end = len(l) - 1\n",
    "    while start < end:  # 不能写<=，会出现分母为0的情况\n",
    "        mid = start + (end - start) * (num - l[start]) // (l[end] - l[start])  # 插值法的优化之处是使用目标值和首尾值的比例加速了查询\n",
    "        if l[mid] == num:\n",
    "            return mid\n",
    "        elif l[mid] < num:\n",
    "            start = mid + 1\n",
    "        else:\n",
    "            end = mid - 1\n",
    "    return 'Not Found'\n",
    "\n",
    "def insert_search_re_w(l, num):  # 一般递归不能返回正确的原list的index值\n",
    "    \"\"\"\n",
    "    递归，无法返回正确index\n",
    "    \"\"\"\n",
    "    start = 0\n",
    "    end = len(l) - 1\n",
    "    if start >= end:\n",
    "        return 'Not Found'\n",
    "    mid = start + int(round((end - start) * (num - l[start]) / (l[end] - l[start])))\n",
    "    if l[mid] == num:\n",
    "        return mid\n",
    "    elif l[mid] < num:\n",
    "        return insert_search_re_w(l[mid+1:], num)\n",
    "    else:\n",
    "        return insert_search_re_w(l[:mid-1], num)\n",
    "\n",
    "def insert_search_re(l, num, start):  # 加入start参数是为了返回寻找值的index\n",
    "    \"\"\"\n",
    "    递归\n",
    "    \"\"\"\n",
    "    length = len(l)\n",
    "    if length == 0:\n",
    "        return \"Not Found\"\n",
    "    end = length - 1 + start\n",
    "    mid = start + int(round((end - start) * (num - l[0]) / (l[end-start]- l[0])))\n",
    "#     print(f'start{start}, mid{mid}, end{end}, {end-start}, {num-l[0]}, {l[end-start]- l[0]}')\n",
    "    if l[mid-start] == num:\n",
    "        return mid\n",
    "    elif l[mid-start] < num:\n",
    "        return insert_search_re(l[mid+1:], num, mid+1)\n",
    "    else:\n",
    "        return insert_search_re(l[:mid-1], num, 0)\n",
    "\n",
    "if __name__ == '__main__':\n",
    "    l = [1, 2, 3, 4, 5, 7, 11]\n",
    "    num = 7\n",
    "    num1 = 8\n",
    "    print(insert_search(l, num))\n",
    "    print(insert_search(l, num1))\n",
    "    print(insert_search_re_w(l, num))\n",
    "    print(insert_search_re_w(l, num1))\n",
    "    print(insert_search_re(l, num, 0))\n",
    "    print(insert_search_re(l, num1, 0))"
   ]
  },
  {
   "cell_type": "markdown",
   "metadata": {},
   "source": [
    "11.2.3斐波那切是有序查找算法，是二分查找的优化，使得”二“变成黄金分割的，时间复杂度是O(logn)。   \n",
    "1.获得一个斐波那切数列；  \n",
    "2.找到比有序数列长度长的第一个斐波那切数；  \n",
    "3.以f[k] - 1作为度量搜索：f[k] - 1 = (f[k-1] + f[k-2]) - 1 = (f[k-1] - 1) + 1 + (f[k-2] - 1)。中间的1是mid所对照的数字"
   ]
  },
  {
   "cell_type": "code",
   "execution_count": 104,
   "metadata": {},
   "outputs": [],
   "source": [
    "# 获得一个斐波那切数列\n",
    "def fib(num):\n",
    "    fib = [0, 1, 1]\n",
    "    if -1 < num < 2:\n",
    "        return fib\n",
    "    pre, cur = fib[1], fib[2]\n",
    "    while num > len(fib) - 1:\n",
    "        pre, cur = cur, pre+cur\n",
    "        fib.append(cur)\n",
    "    return fib\n",
    "\n",
    "def fib_re(num, dic={1:1, 2:1}):\n",
    "    if num in dic:\n",
    "        return dic[num]\n",
    "    dic[num] = fib_re(num-1) + fib_re(num-2)\n",
    "    return dic[num]"
   ]
  },
  {
   "cell_type": "code",
   "execution_count": 115,
   "metadata": {},
   "outputs": [
    {
     "data": {
      "text/plain": [
       "'Not Found'"
      ]
     },
     "execution_count": 115,
     "metadata": {},
     "output_type": "execute_result"
    }
   ],
   "source": [
    "def fib_search(l, num):\n",
    "    length = len(l)\n",
    "    i = 1\n",
    "    while length > fib(i)[-1]:  # 获取fib数列的index值\n",
    "        i += 1\n",
    "#     print(i, fib(i))\n",
    "    \n",
    "    new_l = l[:]\n",
    "    while fib(i)[-1] - 1 > len(new_l):  # 调整输入的list的长度到某个fib数-1\n",
    "        new_l.append(new_l[-1])\n",
    "#     print(new_l)  \n",
    "    \n",
    "    start, end = 0, len(new_l) - 1\n",
    "    while start < end and i > 0:\n",
    "        mid = fib(i - 1)[-1]\n",
    "#         print(f'start{start}, mid{mid}, end{end}')\n",
    "        if new_l[mid] == num:\n",
    "            if mid > length - 1:\n",
    "                return length - 1\n",
    "            return mid\n",
    "        elif l[mid] < num:\n",
    "            start = mid + 1\n",
    "            i -= 2\n",
    "        else:\n",
    "            end = mid - 1\n",
    "            i -= 1\n",
    "    return 'Not Found'\n",
    "    \n",
    "fib_search([1, 2, 3, 4, 5, 7, 11, 17, 29], 35)"
   ]
  },
  {
   "cell_type": "markdown",
   "metadata": {},
   "source": [
    "11.3线性索引查找  \n",
    "11.3.1稠密索引    \n",
    "稠密索引是指在线性索引中，将数据集中的每个记录对应一个索引项。索引项一定是按照关键码有序的排列。索引项有序也就意味着，要查找关键字时，可以用到折半、插值、斐波那契等有序查找算法，大大提高了效率。  \n",
    "11.3.2倒排索引  \n",
    "倒排索引源于实际应用中需要根据属性（或字段、次关键码）的值来查找记录。由于不是由记录来确定属性值，而是由属性值来确定记录的位置，因而称为倒排索引。  \n",
    "11.3.3分块索引  \n",
    "稠密索引因为索引项与数据集的记录个数相同，所以空间代价很大。为了减少索引项的个数，可以对数据集进行分块，使其分块有序，然后再对每一块建立一个索引项，从而减少索引项的个数。"
   ]
  },
  {
   "cell_type": "markdown",
   "metadata": {},
   "source": [
    "11.4二叉排序/查找树  \n",
    "左节点均小于根节点，右节点均大于根节点，插入和查找时间复杂度都是O(logn)。binary sort tree的主要作用是插入和删除元素维持有序。"
   ]
  },
  {
   "cell_type": "code",
   "execution_count": 122,
   "metadata": {},
   "outputs": [
    {
     "name": "stdout",
     "output_type": "stream",
     "text": [
      "0\n",
      "0\n",
      "1\n",
      "2\n",
      "\n",
      "\n",
      "    8\n",
      "\n",
      "\n",
      "2\n",
      "\n",
      "        6\n",
      "\n",
      "    4\n",
      "\n",
      "        7\n",
      "\n"
     ]
    }
   ],
   "source": [
    "class Tree:\n",
    "    def __init__(self, val=None):\n",
    "        self.val = val\n",
    "        if val is None:\n",
    "            self.left = None\n",
    "            self.right = None\n",
    "        else:\n",
    "            self.left = Tree()\n",
    "            self.right = Tree()\n",
    "    def height(self):\n",
    "        if self.val is None:\n",
    "            return 0\n",
    "        else:\n",
    "            return max(self.left._height(), self.right._height())\n",
    "    def _height(self):\n",
    "        if self.val is None:\n",
    "            return 0\n",
    "        return 1 + max(self.left._height(), self.right._height())\n",
    "    def print_tree(self):\n",
    "        self._print_tree(0, self.height())\n",
    "    def _print_tree(self, depth, height):\n",
    "        if self.val is not None:\n",
    "            self.left._print_tree(depth+1, height)\n",
    "            print('    '*depth, self.val, sep='')\n",
    "            self.right._print_tree(depth+1, height)\n",
    "        else:\n",
    "            print('\\n' * (2 ** (height - depth + 1) - 1))\n",
    "\n",
    "print(Tree().height())\n",
    "print(Tree(2).height())\n",
    "T = Tree(2)\n",
    "T1 =  Tree(4)\n",
    "T.right = T1\n",
    "print(T.height())\n",
    "T2 = Tree(6)\n",
    "T3 = Tree(7)\n",
    "T4 = Tree(8)\n",
    "T.left = T4\n",
    "T1.left = T2\n",
    "T1.right = T3\n",
    "print(T.height())\n",
    "T.print_tree()"
   ]
  },
  {
   "cell_type": "code",
   "execution_count": null,
   "metadata": {},
   "outputs": [],
   "source": []
  },
  {
   "cell_type": "markdown",
   "metadata": {},
   "source": [
    "12.归并排序"
   ]
  },
  {
   "cell_type": "code",
   "execution_count": 17,
   "metadata": {},
   "outputs": [
    {
     "name": "stdout",
     "output_type": "stream",
     "text": [
      "[54, 26, 93, 17, 77, 31, 44, 55, 20]\n",
      "[17, 20, 26, 31, 44, 54, 55, 77, 93]\n"
     ]
    }
   ],
   "source": [
    "# def merge_sort(alist):  \n",
    "#     n = len(alist)  \n",
    "#     if n <= 1:  \n",
    "#         # 这个地方一定要有返回值，因为alist是被分解成的单一的元素  \n",
    "#         return alist  \n",
    "#     mid = n // 2  \n",
    "  \n",
    "#     # left 采用递归排序后形成的新序列  \n",
    "#     left_li = merge_sort(alist[:mid])  \n",
    "  \n",
    "#     # right 采用递归排序后形成的新序列  \n",
    "#     right_li = merge_sort(alist[mid:])  \n",
    "  \n",
    "#     # print(left_li,right_li)  \n",
    "  \n",
    "#     # 将两个子序列合并成一个序列  \n",
    "#     # 左右指针  \n",
    "#     left_pointer, right_pointer = 0, 0  \n",
    "#     result = []  \n",
    "  \n",
    "#     while left_pointer < len(left_li) and right_pointer < len(right_li):  \n",
    "#         if left_li[left_pointer] <= right_li[right_pointer]:  \n",
    "#             result.append(left_li[left_pointer])  \n",
    "#             left_pointer += 1  \n",
    "#         else:  \n",
    "#             result.append(right_li[right_pointer])  \n",
    "#             right_pointer += 1  \n",
    "  \n",
    "#     # 此时还有最后一个元素没有加入到列表中，切片是没有越界的，它返回一个空列表  \n",
    "#     result += left_li[left_pointer:]  \n",
    "#     result += right_li[right_pointer:]  \n",
    "#     return result  \n",
    "\n",
    "def merge_sort(ary):\n",
    "    if len(ary) <= 1 : \n",
    "        return ary\n",
    "    num = int(len(ary)/2)       #二分分解\n",
    "    left = merge_sort(ary[:num])\n",
    "    right = merge_sort(ary[num:])\n",
    "    return merge(left,right)    #合并数组\n",
    "\n",
    "def merge(left,right):\n",
    "    '''合并操作，\n",
    "    将两个有序数组left[]和right[]合并成一个大的有序数组'''\n",
    "    l,r = 0,0           #left与right数组的下标指针\n",
    "    result = []\n",
    "    while l<len(left) and r<len(right) :\n",
    "        if left[l] < right[r]:\n",
    "            result.append(left[l])\n",
    "            l += 1\n",
    "        else:\n",
    "            result.append(right[r])\n",
    "            r += 1\n",
    "    result += left[l:]\n",
    "    result += right[r:]\n",
    "    return result\n",
    "  \n",
    "if __name__ == '__main__':  \n",
    "    li = [54, 26, 93, 17, 77, 31, 44, 55, 20]  \n",
    "    print(li)  \n",
    "    sort_li = merge_sort(li)  \n",
    "    print(sort_li)  "
   ]
  },
  {
   "cell_type": "markdown",
   "metadata": {},
   "source": [
    "13.快速排序"
   ]
  },
  {
   "cell_type": "code",
   "execution_count": null,
   "metadata": {},
   "outputs": [],
   "source": [
    "def quick_sort(ary):\n",
    "    return qsort(ary,0,len(ary)-1)\n",
    "def qsort(ary,left,right):\n",
    "    #快排函数，ary为待排序数组，left为待排序的左边界，right为右边界\n",
    "    if left >= right : \n",
    "        return ary\n",
    "    key = ary[left]     #取最左边的为基准数\n",
    "    lp = left           #左指针\n",
    "    rp = right          #右指针\n",
    "    while lp < rp :\n",
    "        while ary[rp] >= key and lp < rp :\n",
    "            rp -= 1\n",
    "        while ary[lp] <= key and lp < rp :\n",
    "            lp += 1\n",
    "        ary[lp],ary[rp] = ary[rp],ary[lp]\n",
    "    ary[left],ary[lp] = ary[lp],ary[left]\n",
    "    qsort(ary,left,lp-1)\n",
    "    qsort(ary,rp+1,right)\n",
    "    return ary\n"
   ]
  }
 ],
 "metadata": {
  "kernelspec": {
   "display_name": "Python 3",
   "language": "python",
   "name": "python3"
  },
  "language_info": {
   "codemirror_mode": {
    "name": "ipython",
    "version": 3
   },
   "file_extension": ".py",
   "mimetype": "text/x-python",
   "name": "python",
   "nbconvert_exporter": "python",
   "pygments_lexer": "ipython3",
   "version": "3.6.4"
  }
 },
 "nbformat": 4,
 "nbformat_minor": 2
}
