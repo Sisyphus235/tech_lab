{
 "cells": [
  {
   "cell_type": "markdown",
   "metadata": {},
   "source": [
    "1.设计一个类，要求只能生成该类的一个实例(Singleton)"
   ]
  },
  {
   "cell_type": "code",
   "execution_count": 34,
   "metadata": {},
   "outputs": [
    {
     "name": "stdout",
     "output_type": "stream",
     "text": [
      "<__main__.OnlyOne object at 0x11230bb70>\n",
      "<__main__.OnlyOne object at 0x11230b0b8>\n",
      "<__main__.OnlyOne object at 0x11230bc88>\n",
      "<__main__.OnlyOne object at 0x11230bb70>\n",
      "<__main__.OnlyOne object at 0x11230b0b8>\n",
      "x\n",
      "y\n",
      "z\n"
     ]
    }
   ],
   "source": [
    "class OnlyOne:\n",
    "    class __OnlyOne:\n",
    "        def __init__(self, arg):\n",
    "            self.val = arg\n",
    "        def __str__(self):\n",
    "            return repr(self) + self.val\n",
    "    instance = None\n",
    "    def __init__(self, arg):\n",
    "        if not OnlyOne.instance:\n",
    "            OnlyOne.instance = OnlyOne.__OnlyOne(arg)\n",
    "        else:\n",
    "            OnlyOne.instance.val = arg\n",
    "    def __getattr__(self, name):\n",
    "        return getattr(self.instance, name)\n",
    "\n",
    "x = OnlyOne('sausage')\n",
    "print(x)\n",
    "y = OnlyOne('eggs')\n",
    "print(y)\n",
    "z = OnlyOne('spam')\n",
    "print(z)\n",
    "print(x)\n",
    "print(y)\n",
    "print('x')\n",
    "print('y')\n",
    "print('z')"
   ]
  },
  {
   "cell_type": "markdown",
   "metadata": {},
   "source": [
    "2.在一个二维数组中，每一行都按照从左到右递增顺序，每一列按照从上到下递增的顺序排序。请完成一个函数，输入这样的一个二维数组和一个整数，判断数组中是否有该整数"
   ]
  },
  {
   "cell_type": "code",
   "execution_count": 2,
   "metadata": {
    "scrolled": true
   },
   "outputs": [],
   "source": [
    "class Array:\n",
    "    def __init__(self, array):\n",
    "        try:\n",
    "            self.row_len, self.column_len = Array.validate(array)\n",
    "            self.array = array\n",
    "        except Exception as e:\n",
    "            print('illegal array')\n",
    "            \n",
    "    @staticmethod\n",
    "    def validate(array):         \n",
    "        def neighbour_val(i, row_len, j, column_len, array):\n",
    "            # 没有判断row为1和column为1的边界情况\n",
    "            down, right, current = None, None, array[i][j]\n",
    "            if i != row_len - 1:\n",
    "                down = array[i+1][j]\n",
    "            if j != column_len - 1:\n",
    "                right = array[i][j+1]\n",
    "#             print(f'i:{i},j:{j},down:{down},right:{right},current:{current}')\n",
    "            if down != None:\n",
    "                if down < current:\n",
    "                    raise\n",
    "            if right != None:\n",
    "                if right < current:\n",
    "                    raise\n",
    "                    \n",
    "        if not array:\n",
    "            raise\n",
    "        row_len = len(array) if all(type(e)==list for e in array) else 1\n",
    "        column_len = len(array[0]) if row_len > 1 else len(array)\n",
    "#         print(f'row:{row_len}, column:{column_len}')\n",
    "        for i, row in enumerate(array):\n",
    "            for j, e in enumerate(row):\n",
    "#                 print(i, j, row, e)\n",
    "                neighbour_val(i, row_len, j, column_len, array)\n",
    "        return row_len, column_len\n",
    "                \n",
    "    def a_print(self):\n",
    "        for row in self.array:\n",
    "            print(''.join(str(row)), end='\\n')"
   ]
  },
  {
   "cell_type": "code",
   "execution_count": 32,
   "metadata": {
    "scrolled": true
   },
   "outputs": [
    {
     "name": "stdout",
     "output_type": "stream",
     "text": [
      "[1, 2, 8, 9]\n",
      "[2, 4, 9, 12]\n",
      "[4, 7, 10, 13]\n",
      "[6, 8, 11, 15]\n"
     ]
    },
    {
     "data": {
      "text/plain": [
       "True"
      ]
     },
     "execution_count": 32,
     "metadata": {},
     "output_type": "execute_result"
    }
   ],
   "source": [
    "def find(array, n):\n",
    "    row_len = array.row_len\n",
    "    column_len = array.column_len\n",
    "    row, col = 0, -1\n",
    "#     print(f'array row {row_len}, col {column_len}')\n",
    "    while n != array.array[row][col]:\n",
    "#         print(f'init {array.array[row][col]}')\n",
    "        if n > array.array[row][col]:\n",
    "            row += 1\n",
    "        if row > row_len - 1:\n",
    "            return False\n",
    "        if n < array.array[row][col]:\n",
    "            col -= 1\n",
    "#         print(f'row {row}, col {col}')\n",
    "        if col < -column_len:\n",
    "            return False\n",
    "    return True\n",
    "\n",
    "a = Array([[1, 2, 8, 9], [2, 4, 9, 12], [4, 7, 10, 13], [6, 8, 11, 15]])\n",
    "a.a_print()\n",
    "find(a, 8)"
   ]
  }
 ],
 "metadata": {
  "kernelspec": {
   "display_name": "Python 3",
   "language": "python",
   "name": "python3"
  },
  "language_info": {
   "codemirror_mode": {
    "name": "ipython",
    "version": 3
   },
   "file_extension": ".py",
   "mimetype": "text/x-python",
   "name": "python",
   "nbconvert_exporter": "python",
   "pygments_lexer": "ipython3",
   "version": "3.6.4"
  }
 },
 "nbformat": 4,
 "nbformat_minor": 2
}
