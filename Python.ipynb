{
 "cells": [
  {
   "cell_type": "markdown",
   "metadata": {},
   "source": [
    "## 1.Built-ins\n",
    "### 1.1 types and classes"
   ]
  },
  {
   "cell_type": "code",
   "execution_count": null,
   "metadata": {},
   "outputs": [],
   "source": [
    "print(type(True), type(1), type (1.), type('1'), type([]), type(()), type({}), type({1}))\n",
    "print(type(bool), type(int), type(float), type(str), type(list), type(type), type(dict), type(set))\n",
    "print(isinstance(1, int), isinstance(1, float), isinstance({2}, set), isinstance({}, set))\n",
    "print(issubclass(bool, int), issubclass(int, float))"
   ]
  },
  {
   "cell_type": "markdown",
   "metadata": {},
   "source": [
    "### 1.2 literal representations"
   ]
  },
  {
   "cell_type": "code",
   "execution_count": null,
   "metadata": {
    "scrolled": true
   },
   "outputs": [],
   "source": [
    "print(bool(True), bool(-17.8), bool('17'), bool([]), bool({}), bool(None), bool(''))\n",
    "print(int('17'), int('10001', 2), int('21', 8), int('15', 12), int('11', 16), int('h', 22))\n",
    "print(int(True), int(17), int(-17), int(0b10001), int(0o21), int(0x11), int(17.8))\n",
    "print(bin(True), bin(17), bin(-17), bin(0b10001), bin(0o21), bin(0x11))\n",
    "print(oct(True), oct(17), oct(-17), oct(0b10001), oct(0o21), oct(0x11))\n",
    "print(hex(True), hex(17), hex(-17), hex(0b10001), hex(0o21), hex(0x11))\n",
    "print(float(False), float(17), float(17.), float(17e-1), float(0.17E2), float('170E-1'))\n",
    "print(complex(0), complex(1.5), complex(4.5, -7.5))\n",
    "print(complex(0).conjugate(), complex(1.5).conjugate(), complex(4.5, -7.5).conjugate())\n",
    "print(complex(0).real, complex(1.5).real, complex(4.5, -7.5).real)\n",
    "print(complex(0).imag, complex(1.5).imag, complex(4.5, -7.5).imag)\n",
    "print(complex(1).real)\n",
    "print(complex(2.1,2).imag)"
   ]
  },
  {
   "cell_type": "markdown",
   "metadata": {},
   "source": [
    "### 1.3 Operations on numbers"
   ]
  },
  {
   "cell_type": "code",
   "execution_count": null,
   "metadata": {
    "scrolled": true
   },
   "outputs": [],
   "source": [
    "print(abs(-3.8), abs(-2), abs(3.8))\n",
    "print(round(-3.6), round(-3.5), round(-3.4), round(3.4), round(3.5), round(3.6))\n",
    "print(round(-3.1235, 3), round(-3.123456, 4), round(3.123456, 4), round(3.1235, 3))\n",
    "print(divmod(13, 5), divmod(-13., 5), divmod(13., -5.), divmod(-13, -5.), divmod(3.5, 2))\n",
    "print(pow(2, 3), pow(-2., -1), pow(4, -0.5), pow(-1, 0.5), pow(-3.8, 0), pow(1j, 1j))  # x ** y\n",
    "print(pow(-2, 3, 3), pow(-2, 3, 5), pow(2, 3, 3), pow(2, 3, 5))   # x ** y % z"
   ]
  },
  {
   "cell_type": "markdown",
   "metadata": {},
   "source": [
    "### 1.4 Strings"
   ]
  },
  {
   "cell_type": "code",
   "execution_count": null,
   "metadata": {
    "scrolled": true
   },
   "outputs": [],
   "source": [
    "print(ord('c'), ord('\\xf7'), ord('•'), ord('\\u2603'))\n",
    "print(chr(99), chr(247), chr(8226), chr(9731))\n",
    "print(ascii('Ça me tient ∞ment à cœur\\t'))\n",
    "print(repr('A string'), str('A string'))\n",
    "a = 2; b = 4.5\n",
    "print(eval('(a + 3.5) * (b + 5.)'))\n",
    "message = input('Input your message: ')\n",
    "print('Your message is:', message)"
   ]
  },
  {
   "cell_type": "markdown",
   "metadata": {},
   "source": [
    "### 1.5 Creating and processing iteratables"
   ]
  },
  {
   "cell_type": "code",
   "execution_count": null,
   "metadata": {},
   "outputs": [],
   "source": [
    "print(tuple(range(4)), tuple(range(4, 8)), tuple(range(4, 16, 3)))\n",
    "print(tuple(range(-8)), tuple(range(-8, -4)), tuple(range(-16, -8, -3)))\n",
    "print()\n",
    "\n",
    "print(range(2, 8, 2).count(4), range(2, 8, 2).count(5), range(2, 8, 2).index(4))\n",
    "\n",
    "print(list(enumerate({10, 15, 25, 40})))\n",
    "print(dict(enumerate((10, 15, 25, 40), 3)))\n",
    "\n",
    "print(list(zip([1, 2, 3, 4], [11, 12, 13], [21, 22, 23, 24, 25], [31, 32, 33])))\n",
    "print(list(zip(*zip([1, 2, 3, 4], [11, 12, 13], [21, 22, 23, 24, 25], [31, 32, 33]))))\n",
    "\n",
    "print(list(map(sorted,\n",
    "               [(1, 2, 3), (7, 5, 4, 6, 8), (10, 9), (11,)])))\n",
    "print(set(map(int.__add__,\n",
    "              [1, 2, 3, 4, 5], [11, 12, 13])))\n",
    "print(dict(map(lambda x: (x, 2 * x),\n",
    "               (0, 1, 2, 3, 4, 5))))\n",
    "print(tuple(map(lambda x, y, z: len({x, y, z}) == 2,\n",
    "                [1, 20, 30, -4, 5, 60], [-1, 20, 31, 4, 5], [1, 20, 32, 4, -5, 61, 70])))\n",
    "\n",
    "print(list(filter(str.isupper,\n",
    "                 {'A': 1, 'b': 2, 'c': 3, 'D': 4, 'E': 5})))\n",
    "print(tuple(filter(lambda x: x < 10,\n",
    "                [-1, 20, -3, -4, 50, 60])))\n",
    "\n",
    "print(sum([3, 1, 7, 5]))\n",
    "print(sum({3: 1, 1: 1, 7: 2, 5: 3}))\n",
    "\n",
    "print(min((3, 1, 7, 5)))\n",
    "# min() accepts also an arbitrary number of arguments\n",
    "print(min(3, 1, 7, 5))\n",
    "\n",
    "print(max({3 : 10, 1: 10, 7: 10, 5: 10}))\n",
    "# max() accepts also an arbitrary number of arguments\n",
    "print(max(3, 1, 7, 5))\n",
    "\n",
    "print(sorted([2, 1, 3, 4, 0]))\n",
    "print(list(reversed((2, 1, 3, 4, 0))))\n",
    "\n",
    "print(any([0, 0, 0, 0, 0]))\n",
    "print(any((1, 0, 0, 1, 0)))\n",
    "\n",
    "print(all({5, 2, 3, 1, 4}))\n",
    "print(all({5: 1, 2: 1, 3: 1, 0: 1, 4: 4}))"
   ]
  },
  {
   "cell_type": "markdown",
   "metadata": {},
   "source": [
    "## 2. Collections"
   ]
  },
  {
   "cell_type": "markdown",
   "metadata": {},
   "source": [
    "### 2.1 namedtuple"
   ]
  },
  {
   "cell_type": "code",
   "execution_count": 63,
   "metadata": {},
   "outputs": [
    {
     "name": "stdout",
     "output_type": "stream",
     "text": [
      "point(x=2, y=3, z=4) 2 3\n"
     ]
    }
   ],
   "source": [
    "from collections import namedtuple\n",
    "\n",
    "P = namedtuple('point', 'x, y, z')\n",
    "p = P(2, 3, 4)\n",
    "print(p, p.x, p.y)"
   ]
  },
  {
   "cell_type": "markdown",
   "metadata": {},
   "source": [
    "### 2.2 defaultdict"
   ]
  },
  {
   "cell_type": "code",
   "execution_count": 67,
   "metadata": {},
   "outputs": [
    {
     "name": "stdout",
     "output_type": "stream",
     "text": [
      "0 2\n",
      "1 3\n",
      "defaultdict(<function tree at 0x106d1d378>,\n",
      "            {'A': defaultdict(<function tree at 0x106d1d378>,\n",
      "                              {'B_1': defaultdict(<function tree at 0x106d1d378>,\n",
      "                                                  {'C': 0}),\n",
      "                               'B_2': defaultdict(<function tree at 0x106d1d378>,\n",
      "                                                  {'C_1': 1,\n",
      "                                                   'C_2': 2})})})\n"
     ]
    }
   ],
   "source": [
    "from collections import defaultdict\n",
    "\n",
    "a = defaultdict(int)\n",
    "a[1] += 2\n",
    "print(a[0], a[1])\n",
    "\n",
    "b = defaultdict(lambda: 1)\n",
    "b[2] += 2\n",
    "print(b[1], b[2])\n",
    "\n",
    "def tree():\n",
    "    return defaultdict(tree)\n",
    "\n",
    "T = tree()\n",
    "T['A']['B_1']['C'] = 0\n",
    "T['A']['B_2']['C_1'] = 1\n",
    "T['A']['B_2']['C_2'] = 2\n",
    "from pprint import pprint\n",
    "pprint(T)"
   ]
  },
  {
   "cell_type": "markdown",
   "metadata": {},
   "source": [
    "### 2.3 deque"
   ]
  },
  {
   "cell_type": "code",
   "execution_count": 106,
   "metadata": {},
   "outputs": [
    {
     "name": "stdout",
     "output_type": "stream",
     "text": [
      "deque([-3, -2, -1, 0, 1, 2, 3, 4, 5])\n",
      "deque([5, -3, -2, -1, 0, 1, 2, 3, 4])\n",
      "deque([3, 4, 5, -3, -2, -1, 0, 1, 2])\n",
      "deque([-3, -2, -1, 0, 1, 2, 3, 4, 5])\n",
      "deque([5, 4, 3, 2, 1, 0, -1, -2, -3])\n",
      "-3\n",
      "5\n",
      "deque([4, 3, 0, 2, 1, 0, -1, -2])\n",
      "2\n",
      "2\n",
      "deque([4, 3, 2, 1, 0, -1, -2])\n",
      "deque([4, 3, 2, 1, -1, -2])\n",
      "\n",
      "deque([3, 4, 5], maxlen=3)\n",
      "deque([-1, 3, 4], maxlen=3)\n",
      "deque([-1, 3, 4], maxlen=3)\n",
      "c: deque([], maxlen=3), b: deque([-1, 3, 4], maxlen=3)\n"
     ]
    }
   ],
   "source": [
    "from collections import deque\n",
    "\n",
    "a = deque((0, 1))\n",
    "a.append(2)\n",
    "a.extend({3, 4, 5})\n",
    "a.appendleft(-1)\n",
    "a.extendleft({-2:'A', -3:'B'})\n",
    "print(a)\n",
    "\n",
    "a.rotate()  # 把最后一个值放在前面\n",
    "print(a)\n",
    "a.rotate(2)  # 把最后2个值放在前面\n",
    "print(a)\n",
    "a.rotate(-3)  # 把前面3个值放在后面\n",
    "print(a)\n",
    "a.reverse()  # 倒序排布\n",
    "print(a)\n",
    "print(a.pop())  # 弹出最后一个\n",
    "print(a.popleft())  # 弹出第一个\n",
    "a.insert(2, 0)  # 在index2的位置插入数字0\n",
    "print(a)\n",
    "print(a.count(0))  # 查询0的个数\n",
    "print(a.index(0))  # 查询第一个0的index\n",
    "a.remove(0)  # 删除第一个0\n",
    "print(a)\n",
    "a.remove(0)\n",
    "print(a)\n",
    "print()\n",
    "\n",
    "b = deque(maxlen=3)  # deque最大长度为3\n",
    "b.append(0)\n",
    "b.extend([1,2,3,4,5])\n",
    "print(b)\n",
    "b.appendleft(-1)\n",
    "print(b)\n",
    "c = b.copy()\n",
    "print(c)\n",
    "c.clear()  # 清空deque\n",
    "print(f'c: {c}, b: {b}')"
   ]
  },
  {
   "cell_type": "markdown",
   "metadata": {},
   "source": [
    "### 2.4 Counter"
   ]
  },
  {
   "cell_type": "code",
   "execution_count": 16,
   "metadata": {
    "scrolled": true
   },
   "outputs": [
    {
     "name": "stdout",
     "output_type": "stream",
     "text": [
      "Counter({'a': 4, 'b': 3, 'c': 2, 'd': 1})\n",
      "a a a a b b b c c d \n",
      "[('a', 4), ('b', 3), ('c', 2), ('d', 1)]\n",
      "[('a', 4), ('b', 3)]\n",
      "Counter({'c': 6, 'a': 4, 'd': 4, 'b': 3, 'e': 2, 'f': 1})\n",
      "Counter({'c': 3, 'a': 1, 'd': 1, 'b': 0, 'e': -1, 'f': -2})\n",
      "Counter({'c': 3, 'a': 1, 'd': 1, 'b': 0, 'e': -1, 'f': -2})\n",
      "Counter()\n",
      "\n",
      "Counter({'c': 4, 'a': 1, 'b': 1})\n",
      "Counter({'b': 2, 'c': 2, 'd': 2})\n",
      "Counter({'c': 6, 'b': 3, 'd': 2, 'a': 1})\n",
      "Counter({'c': 2, 'a': 1})\n",
      "Counter({'c': 2, 'b': 1})\n",
      "Counter({'c': 4, 'b': 2, 'd': 2, 'a': 1})\n"
     ]
    }
   ],
   "source": [
    "from collections import Counter\n",
    "\n",
    "C = Counter('aababcabcd')\n",
    "print(C)\n",
    "for e in sorted(C.elements()):\n",
    "    print(e, end = ' ')\n",
    "print()\n",
    "print(C.most_common())  # 显示所有items的统计\n",
    "print(C.most_common(2))  # 显示大于2次的items的统计\n",
    "C.update(Counter('ccdcdecdef'))  # 叠加新的数据累加统计\n",
    "print(C)\n",
    "C.subtract('abcdef' * 3)  # 从统计中减少参数设置的次数\n",
    "print(C)\n",
    "C_copy = C.copy()\n",
    "print(C_copy)\n",
    "C_copy.clear()  # 清空统计\n",
    "print(C_copy)\n",
    "print()\n",
    "\n",
    "C1 = Counter('abcccc')\n",
    "C2 = Counter('bbccdd')\n",
    "print(C1)\n",
    "print(C2)\n",
    "print(C1 + C2)\n",
    "print(C1 - C2)  # 只留下有统计数量的参数\n",
    "print(C1 & C2)  # 两个统计共有的参数，统计值取最小值\n",
    "print(C1 | C2)  # 两个统计全部的参数，统计值取最大值"
   ]
  },
  {
   "cell_type": "markdown",
   "metadata": {},
   "source": [
    "### 2.5 OrderDict"
   ]
  },
  {
   "cell_type": "code",
   "execution_count": 17,
   "metadata": {},
   "outputs": [
    {
     "name": "stdout",
     "output_type": "stream",
     "text": [
      "A C B D \n",
      "A B D C \n",
      "['C', 'D', 'B', 'A']\n"
     ]
    }
   ],
   "source": [
    "from collections import OrderedDict\n",
    "\n",
    "D = OrderedDict()\n",
    "D['A'] = None\n",
    "D['C'] = None\n",
    "D['B'] = None\n",
    "D['D'] = None\n",
    "for k in D:\n",
    "    print(k, end = ' ')  # OrderDict是按照先后赋值顺序排布的\n",
    "print()\n",
    "\n",
    "D.move_to_end('C')\n",
    "for k in D:\n",
    "    print(k, end = ' ')\n",
    "print()\n",
    "print(list(reversed(D)))"
   ]
  },
  {
   "cell_type": "markdown",
   "metadata": {},
   "source": [
    "### 2.6 ChainMap"
   ]
  },
  {
   "cell_type": "code",
   "execution_count": 18,
   "metadata": {},
   "outputs": [
    {
     "name": "stdout",
     "output_type": "stream",
     "text": [
      "ChainMap({'A': 0}, {'A': 1}, {'A': 2, 'B': 2})\n",
      "ChainMap({}, {'A': 1}, {'A': 2, 'B': 2})\n",
      "ChainMap({}, {'A': 1}, {'A': 2, 'B': 2})\n",
      "ChainMap({}, {'A': 11}, {'A': 2, 'B': 2})\n",
      "ChainMap({'A': 'a'}, {'A': 11}, {'A': 2, 'B': 2})\n",
      "\n",
      "11\n",
      "ChainMap({'B': -1, 'C': -1}, {}, {'A': 11}, {'A': 2, 'B': 2})\n",
      "-1\n",
      "('C', -1)\n"
     ]
    }
   ],
   "source": [
    "from collections import ChainMap\n",
    "\n",
    "d0 = {'A': 0}\n",
    "d1 = {'A': 1}\n",
    "d2 = {'A': 2, 'B':2}\n",
    "C = ChainMap(d0, d1, d2)\n",
    "print(C)\n",
    "C.clear()\n",
    "print(C)\n",
    "C_copy = C.copy()\n",
    "print(C_copy)\n",
    "d1['A'] = 11\n",
    "C_copy['A'] = 'a'\n",
    "print(C)\n",
    "print(C_copy)\n",
    "print()\n",
    "\n",
    "extended_C = C.new_child({'B': -1, 'C': -1})  # 在最左侧加入一个新对象\n",
    "print(extended_C.get('A'))\n",
    "print(extended_C)\n",
    "print(extended_C.pop('B'))\n",
    "print(extended_C.popitem())"
   ]
  },
  {
   "cell_type": "markdown",
   "metadata": {},
   "source": [
    "### Deepcopy"
   ]
  },
  {
   "cell_type": "code",
   "execution_count": null,
   "metadata": {},
   "outputs": [],
   "source": [
    "from copy import deepcopy\n",
    "\n",
    "a = [1, 2, [3, 4], 5]\n",
    "print(id(a))\n",
    "\n",
    "b = a\n",
    "print(id(b))\n",
    "\n",
    "c = deepcopy(a)\n",
    "print(b, id(c), sep='\\n')"
   ]
  },
  {
   "cell_type": "markdown",
   "metadata": {},
   "source": [
    "### String"
   ]
  },
  {
   "cell_type": "code",
   "execution_count": 52,
   "metadata": {
    "scrolled": true
   },
   "outputs": [
    {
     "name": "stdout",
     "output_type": "stream",
     "text": [
      "4\n",
      "6\n",
      "normal_test\n",
      "normal_string\n",
      "['a', 'bb', 'ccc', 'dddd']\n",
      "a,bb,ccc,dddd A,BB,CCC,DDDD a,bb,ccc,dddd\n",
      "test    |test\n",
      "spam, eggs, and SPAM!\n",
      "['__add__', '__alloc__', '__class__', '__contains__', '__delattr__', '__delitem__', '__dir__', '__doc__', '__eq__', '__format__', '__ge__', '__getattribute__', '__getitem__', '__gt__', '__hash__', '__iadd__', '__imul__', '__init__', '__init_subclass__', '__iter__', '__le__', '__len__', '__lt__', '__mod__', '__mul__', '__ne__', '__new__', '__reduce__', '__reduce_ex__', '__repr__', '__rmod__', '__rmul__', '__setattr__', '__setitem__', '__sizeof__', '__str__', '__subclasshook__', 'append', 'capitalize', 'center', 'clear', 'copy', 'count', 'decode', 'endswith', 'expandtabs', 'extend', 'find', 'fromhex', 'hex', 'index', 'insert', 'isalnum', 'isalpha', 'isdigit', 'islower', 'isspace', 'istitle', 'isupper', 'join', 'ljust', 'lower', 'lstrip', 'maketrans', 'partition', 'pop', 'remove', 'replace', 'reverse', 'rfind', 'rindex', 'rjust', 'rpartition', 'rsplit', 'rstrip', 'split', 'splitlines', 'startswith', 'strip', 'swapcase', 'title', 'translate', 'upper', 'zfill']\n",
      "['__add__', '__class__', '__contains__', '__delattr__', '__dir__', '__doc__', '__eq__', '__format__', '__ge__', '__getattribute__', '__getitem__', '__getnewargs__', '__gt__', '__hash__', '__init__', '__init_subclass__', '__iter__', '__le__', '__len__', '__lt__', '__mod__', '__mul__', '__ne__', '__new__', '__reduce__', '__reduce_ex__', '__repr__', '__rmod__', '__rmul__', '__setattr__', '__sizeof__', '__str__', '__subclasshook__', 'capitalize', 'casefold', 'center', 'count', 'encode', 'endswith', 'expandtabs', 'find', 'format', 'format_map', 'index', 'isalnum', 'isalpha', 'isdecimal', 'isdigit', 'isidentifier', 'islower', 'isnumeric', 'isprintable', 'isspace', 'istitle', 'isupper', 'join', 'ljust', 'lower', 'lstrip', 'maketrans', 'partition', 'replace', 'rfind', 'rindex', 'rjust', 'rpartition', 'rsplit', 'rstrip', 'split', 'splitlines', 'startswith', 'strip', 'swapcase', 'title', 'translate', 'upper', 'zfill']\n",
      "Hello     Python world|Python \n"
     ]
    }
   ],
   "source": [
    "# 1.bytearray: only for text whose characters are all at most 8-bits wide (e.g., ASCII)\n",
    "a = bytearray(b'test')\n",
    "a.extend(b'_extend')\n",
    "a.decode()\n",
    "\n",
    "# 2.find: find the offset of a substring in S\n",
    "print(a.find(b'_'))\n",
    "b = 'normal_string'\n",
    "print(b.find('_'))\n",
    "\n",
    "# 3.replace: replace occurrences of a string in S with another\n",
    "print(b.replace('string', 'test'))\n",
    "print(b)\n",
    "\n",
    "# 4.split: split on a delimiter into a list of substrings\n",
    "c = 'a,bb,ccc,dddd'\n",
    "line = c.split(',')\n",
    "print(line)\n",
    "\n",
    "# 5.upper, lower: upper- and lowercase conversions\n",
    "d = c.upper()\n",
    "e = d.lower()\n",
    "print(c, d, e)\n",
    "\n",
    "# 6.rstrip: remove whitespace characters on the right side\n",
    "f = 'test    '\n",
    "g = f.rstrip()\n",
    "print(f, g, sep='|')\n",
    "\n",
    "# 7.format\n",
    "print('{}, eggs, and {}'.format('spam', 'SPAM!'))\n",
    "\n",
    "# 8.dir: find all methods\n",
    "print(dir(a), dir(b), sep='\\n')\n",
    "\n",
    "# 9.re: pattern matching module\n",
    "import re\n",
    "match = re.match('Hello[ \\t]*(.*)world', 'Hello     Python world')\n",
    "print(match.group(), match.group(1), sep='|')"
   ]
  },
  {
   "cell_type": "markdown",
   "metadata": {},
   "source": [
    "### List"
   ]
  },
  {
   "cell_type": "code",
   "execution_count": 71,
   "metadata": {},
   "outputs": [
    {
     "name": "stdout",
     "output_type": "stream",
     "text": [
      "append, extend\n",
      "[1, 3, 5, 2]\n",
      "[1, 3, 5, 2, 3, 4]\n",
      "pop, remove\n",
      "4|[1, 3, 5, 2, 3]\n",
      "3|[1, 3, 5, 2]\n",
      "[1, 5, 2]\n",
      "sort\n",
      "[1, 5, 2]|[1, 2, 5]\n",
      "[1, 2, 5]|[1, 2, 5]\n",
      "reverse\n",
      "[5, 2, 1]\n"
     ]
    }
   ],
   "source": [
    "# 1.append, extend\n",
    "print('append, extend')\n",
    "a = [1, 3, 5]\n",
    "a.append(2)\n",
    "print(a)\n",
    "a.extend([3,4])\n",
    "print(a)\n",
    "\n",
    "# 2.pop, remove\n",
    "print('pop, remove')\n",
    "print(a.pop(), a, sep='|')\n",
    "print(a.pop(4), a, sep='|')\n",
    "a.remove(3)\n",
    "print(a)\n",
    "\n",
    "# 3.sort\n",
    "print('sort')\n",
    "b = sorted(a)\n",
    "print(a, b, sep='|')\n",
    "a.sort()\n",
    "print(a, b, sep='|')\n",
    "\n",
    "# 4.reverse\n",
    "print('reverse')\n",
    "a.reverse()\n",
    "print(a)"
   ]
  },
  {
   "cell_type": "markdown",
   "metadata": {},
   "source": [
    "### Control FLow"
   ]
  },
  {
   "cell_type": "code",
   "execution_count": 23,
   "metadata": {},
   "outputs": [
    {
     "name": "stdout",
     "output_type": "stream",
     "text": [
      "5 0\t4 1\t3 2\t3 2\t4 1\t\n",
      "\n",
      "5 0\t4 0\t3 0\t2 0\t1 0\t\n",
      "5 1\t4 1\t3 1\t2 1\t1 1\t\n",
      "5 2\t4 2\t3 2\t2 2\t2 1\t\n",
      "5 3\t4 3\t3 3\t3 2\t3 1\t\n",
      "5 4\t4 4\t4 3\t4 2\t4 1\t\n",
      "[(0, 5), (1, 4), (2, 3), (3, 2), (4, 1)]\n"
     ]
    }
   ],
   "source": [
    "for x, y in zip((range(5)), (range(5, 0, -1))):\n",
    "    print(x, y, end = '\\t') if x > y else print(y, x, end = '\\t')\n",
    "print('\\n')\n",
    "\n",
    "for x in range(5):\n",
    "    for y in range(5, 0, -1):\n",
    "        print(x, y, end = '\\t') if x > y else print(y, x, end = '\\t')\n",
    "    print()\n",
    "\n",
    "print(list(zip((range(5)), (range(5, 0, -1)))))"
   ]
  },
  {
   "cell_type": "markdown",
   "metadata": {},
   "source": [
    "## class"
   ]
  },
  {
   "cell_type": "code",
   "execution_count": 87,
   "metadata": {},
   "outputs": [
    {
     "name": "stdout",
     "output_type": "stream",
     "text": [
      "B\n",
      "A\n",
      "T\n",
      "[<class '__main__.T'>, <class '__main__.A'>, <class '__main__.B'>, <class 'object'>]\n",
      "(<class '__main__.T'>, <class '__main__.A'>, <class '__main__.B'>, <class 'object'>)\n",
      "(<class '__main__.A'>, <class '__main__.B'>)\n"
     ]
    }
   ],
   "source": [
    "class A:\n",
    "    def fun(self):\n",
    "        super().fun()  # 这里的super()不是只能指父类\n",
    "        print('A')\n",
    "        \n",
    "class B:\n",
    "    def fun(self):\n",
    "        print('B')\n",
    "        \n",
    "class T(A, B):\n",
    "    def fun(self):\n",
    "        super().fun()  # A里面fun调用super()，A没有父类，所以调用T的继承父类的一个链接，变成调用B\n",
    "        print('T')\n",
    "\n",
    "t = T()\n",
    "t.fun()\n",
    "print(T.mro(), T.__mro__, T.__bases__, sep='\\n')"
   ]
  },
  {
   "cell_type": "code",
   "execution_count": null,
   "metadata": {},
   "outputs": [],
   "source": [
    "class T:\n",
    "    i = 1\n",
    "    lst = []\n",
    "    \n",
    "t1 = T()\n",
    "t2 = T()\n",
    "t1.i = 3\n",
    "T.i = 2  # 修改了t2的i值\n",
    "print(t1.i)\n",
    "print(t2.i)\n",
    "print(T.i)\n",
    "\n",
    "t2.lst.append('x')  # 修改了t1和T的lst\n",
    "t2.lst = ['y']\n",
    "print(t1.lst)\n",
    "print(t2.lst)\n",
    "print(T.lst)"
   ]
  },
  {
   "cell_type": "markdown",
   "metadata": {},
   "source": [
    "## Bisect  \n",
    "寻找维持list排序的index"
   ]
  },
  {
   "cell_type": "code",
   "execution_count": null,
   "metadata": {},
   "outputs": [],
   "source": [
    "import bisect\n",
    "\n",
    "L = [1, 2, 2, 3, 3, 3]\n",
    "\n",
    "print(bisect.bisect(L, 2))  # bisect默认是bisect_right\n",
    "print(bisect.bisect_right(L, 2))  # 在L中插入元素2，返回维持排序不变的最右侧的index\n",
    "print(bisect.bisect_left(L, 2))  # 在L中插入元素2，返回维持排序不变的最左侧的index\n",
    "print(bisect.bisect(L, 2, 4))  # 在L中插入元素2，返回从index4开始维持排序不变的最右侧的index\n",
    "print(bisect.bisect(L, 2, 0, 1))  # 在L中插入元素2，返回从index0到1中维持排序不变的最右侧的index\n",
    "\n",
    "bisect.insort(L, 2) # insort默认是insort_right\n",
    "print(L)\n",
    "bisect.insort_right(L, 2)  # 在L中插入元素2，维持排序不变，最右侧插入\n",
    "print(L)\n",
    "bisect.insort_left(L, 2)  # 在L中插入元素2，维持排序不变，最左侧插入\n",
    "print(L)\n",
    "bisect.insort(L, 2, 7)  # 在L中插入元素2，维持排序不变，从第7个index开始，最右侧插入\n",
    "print(L)\n",
    "bisect.insort(L, 6, 0, 5)  # 在L中插入元素6，维持排序不变，从第0个index开始到第5个index结束，最右侧插入\n",
    "print(L)"
   ]
  },
  {
   "cell_type": "markdown",
   "metadata": {},
   "source": [
    "### boundary和易错点"
   ]
  },
  {
   "cell_type": "code",
   "execution_count": 19,
   "metadata": {},
   "outputs": [
    {
     "name": "stdout",
     "output_type": "stream",
     "text": [
      "[1, 2, [...]]\n"
     ]
    }
   ],
   "source": [
    "L = [1, 2]\n",
    "L.append(L)  # L会不断的引用到头部插入，[1, 2, [1, 2, [1, 2...无限循环，出现[[...]]的结构\n",
    "print(L)"
   ]
  }
 ],
 "metadata": {
  "kernelspec": {
   "display_name": "Python 3",
   "language": "python",
   "name": "python3"
  },
  "language_info": {
   "codemirror_mode": {
    "name": "ipython",
    "version": 3
   },
   "file_extension": ".py",
   "mimetype": "text/x-python",
   "name": "python",
   "nbconvert_exporter": "python",
   "pygments_lexer": "ipython3",
   "version": "3.6.4"
  }
 },
 "nbformat": 4,
 "nbformat_minor": 2
}
