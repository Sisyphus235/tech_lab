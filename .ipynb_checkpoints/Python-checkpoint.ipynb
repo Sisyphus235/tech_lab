{
 "cells": [
  {
   "cell_type": "markdown",
   "metadata": {},
   "source": [
    "## 1.Built-ins\n",
    "### 1.1 types and classes"
   ]
  },
  {
   "cell_type": "code",
   "execution_count": null,
   "metadata": {},
   "outputs": [],
   "source": [
    "print(type(True), type(1), type (1.), type('1'), type([]), type(()), type({}), type({1}))\n",
    "print(type(bool), type(int), type(float), type(str), type(list), type(type), type(dict), type(set))\n",
    "print(isinstance(1, int), isinstance(1, float), isinstance({2}, set), isinstance({}, set))\n",
    "print(issubclass(bool, int), issubclass(int, float))"
   ]
  },
  {
   "cell_type": "markdown",
   "metadata": {},
   "source": [
    "### 1.2 literal representations"
   ]
  },
  {
   "cell_type": "code",
   "execution_count": null,
   "metadata": {
    "scrolled": true
   },
   "outputs": [],
   "source": [
    "print(bool(True), bool(-17.8), bool('17'), bool([]), bool({}), bool(None), bool(''))\n",
    "print(int('17'), int('10001', 2), int('21', 8), int('15', 12), int('11', 16), int('h', 22))\n",
    "print(int(True), int(17), int(-17), int(0b10001), int(0o21), int(0x11), int(17.8))\n",
    "print(bin(True), bin(17), bin(-17), bin(0b10001), bin(0o21), bin(0x11))\n",
    "print(oct(True), oct(17), oct(-17), oct(0b10001), oct(0o21), oct(0x11))\n",
    "print(hex(True), hex(17), hex(-17), hex(0b10001), hex(0o21), hex(0x11))\n",
    "print(float(False), float(17), float(17.), float(17e-1), float(0.17E2), float('170E-1'))\n",
    "print(complex(0), complex(1.5), complex(4.5, -7.5))\n",
    "print(complex(0).conjugate(), complex(1.5).conjugate(), complex(4.5, -7.5).conjugate())\n",
    "print(complex(0).real, complex(1.5).real, complex(4.5, -7.5).real)\n",
    "print(complex(0).imag, complex(1.5).imag, complex(4.5, -7.5).imag)\n",
    "print(complex(1).real)\n",
    "print(complex(2.1,2).imag)"
   ]
  },
  {
   "cell_type": "markdown",
   "metadata": {},
   "source": [
    "### 1.3 Operations on numbers"
   ]
  },
  {
   "cell_type": "code",
   "execution_count": null,
   "metadata": {
    "scrolled": true
   },
   "outputs": [],
   "source": [
    "print(abs(-3.8), abs(-2), abs(3.8))\n",
    "print(round(-3.6), round(-3.5), round(-3.4), round(3.4), round(3.5), round(3.6))\n",
    "print(round(-3.1235, 3), round(-3.123456, 4), round(3.123456, 4), round(3.1235, 3))\n",
    "print(divmod(13, 5), divmod(-13., 5), divmod(13., -5.), divmod(-13, -5.), divmod(3.5, 2))\n",
    "print(pow(2, 3), pow(-2., -1), pow(4, -0.5), pow(-1, 0.5), pow(-3.8, 0), pow(1j, 1j))  # x ** y\n",
    "print(pow(-2, 3, 3), pow(-2, 3, 5), pow(2, 3, 3), pow(2, 3, 5))   # x ** y % z"
   ]
  },
  {
   "cell_type": "markdown",
   "metadata": {},
   "source": [
    "### 1.4 Strings"
   ]
  },
  {
   "cell_type": "code",
   "execution_count": null,
   "metadata": {
    "scrolled": true
   },
   "outputs": [],
   "source": [
    "print(ord('c'), ord('\\xf7'), ord('•'), ord('\\u2603'))\n",
    "print(chr(99), chr(247), chr(8226), chr(9731))\n",
    "print(ascii('Ça me tient ∞ment à cœur\\t'))\n",
    "print(repr('A string'), str('A string'))\n",
    "a = 2; b = 4.5\n",
    "print(eval('(a + 3.5) * (b + 5.)'))\n",
    "message = input('Input your message: ')\n",
    "print('Your message is:', message)"
   ]
  },
  {
   "cell_type": "markdown",
   "metadata": {},
   "source": [
    "### 1.5 Creating and processing iteratables"
   ]
  },
  {
   "cell_type": "code",
   "execution_count": null,
   "metadata": {},
   "outputs": [],
   "source": [
    "print(tuple(range(4)), tuple(range(4, 8)), tuple(range(4, 16, 3)))\n",
    "print(tuple(range(-8)), tuple(range(-8, -4)), tuple(range(-16, -8, -3)))\n",
    "print()\n",
    "\n",
    "print(range(2, 8, 2).count(4), range(2, 8, 2).count(5), range(2, 8, 2).index(4))\n",
    "\n",
    "print(list(enumerate({10, 15, 25, 40})))\n",
    "print(dict(enumerate((10, 15, 25, 40), 3)))\n",
    "\n",
    "print(list(zip([1, 2, 3, 4], [11, 12, 13], [21, 22, 23, 24, 25], [31, 32, 33])))\n",
    "print(list(zip(*zip([1, 2, 3, 4], [11, 12, 13], [21, 22, 23, 24, 25], [31, 32, 33]))))\n",
    "\n",
    "print(list(map(sorted,\n",
    "               [(1, 2, 3), (7, 5, 4, 6, 8), (10, 9), (11,)])))\n",
    "print(set(map(int.__add__,\n",
    "              [1, 2, 3, 4, 5], [11, 12, 13])))\n",
    "print(dict(map(lambda x: (x, 2 * x),\n",
    "               (0, 1, 2, 3, 4, 5))))\n",
    "print(tuple(map(lambda x, y, z: len({x, y, z}) == 2,\n",
    "                [1, 20, 30, -4, 5, 60], [-1, 20, 31, 4, 5], [1, 20, 32, 4, -5, 61, 70])))\n",
    "\n",
    "print(list(filter(str.isupper,\n",
    "                 {'A': 1, 'b': 2, 'c': 3, 'D': 4, 'E': 5})))\n",
    "print(tuple(filter(lambda x: x < 10,\n",
    "                [-1, 20, -3, -4, 50, 60])))\n",
    "\n",
    "print(sum([3, 1, 7, 5]))\n",
    "print(sum({3: 1, 1: 1, 7: 2, 5: 3}))\n",
    "\n",
    "print(min((3, 1, 7, 5)))\n",
    "# min() accepts also an arbitrary number of arguments\n",
    "print(min(3, 1, 7, 5))\n",
    "\n",
    "print(max({3 : 10, 1: 10, 7: 10, 5: 10}))\n",
    "# max() accepts also an arbitrary number of arguments\n",
    "print(max(3, 1, 7, 5))\n",
    "\n",
    "print(sorted([2, 1, 3, 4, 0]))\n",
    "print(list(reversed((2, 1, 3, 4, 0))))\n",
    "\n",
    "print(any([0, 0, 0, 0, 0]))\n",
    "print(any((1, 0, 0, 1, 0)))\n",
    "\n",
    "print(all({5, 2, 3, 1, 4}))\n",
    "print(all({5: 1, 2: 1, 3: 1, 0: 1, 4: 4}))"
   ]
  },
  {
   "cell_type": "markdown",
   "metadata": {},
   "source": [
    "## 2. Collections"
   ]
  },
  {
   "cell_type": "markdown",
   "metadata": {},
   "source": [
    "### 2.1 namedtuple"
   ]
  },
  {
   "cell_type": "code",
   "execution_count": 7,
   "metadata": {
    "scrolled": true
   },
   "outputs": [
    {
     "name": "stdout",
     "output_type": "stream",
     "text": [
      "point(x=2, y=3, z=4) 2 3 4\n",
      "Bob 40\n",
      "40 ['dev', 'mgr']\n"
     ]
    }
   ],
   "source": [
    "from collections import namedtuple  \n",
    "# namedtuple implements extension type that adds logic to tuples that allows components to be accessed by both position and attribute name\n",
    "\n",
    "P = namedtuple('point', 'x, y, z')\n",
    "p = P(2, 3, 4)\n",
    "print(p, p.x, p.y, p[2])\n",
    "\n",
    "Rec = namedtuple('Rec', ['name', 'age', 'jobs'])\n",
    "bob = Rec('Bob', 40, jobs=['dev', 'mgr'])\n",
    "print(bob[0], bob[1])\n",
    "print(bob.age, bob.jobs)"
   ]
  },
  {
   "cell_type": "markdown",
   "metadata": {},
   "source": [
    "### 2.2 defaultdict"
   ]
  },
  {
   "cell_type": "code",
   "execution_count": 67,
   "metadata": {},
   "outputs": [
    {
     "name": "stdout",
     "output_type": "stream",
     "text": [
      "0 2\n",
      "1 3\n",
      "defaultdict(<function tree at 0x106d1d378>,\n",
      "            {'A': defaultdict(<function tree at 0x106d1d378>,\n",
      "                              {'B_1': defaultdict(<function tree at 0x106d1d378>,\n",
      "                                                  {'C': 0}),\n",
      "                               'B_2': defaultdict(<function tree at 0x106d1d378>,\n",
      "                                                  {'C_1': 1,\n",
      "                                                   'C_2': 2})})})\n"
     ]
    }
   ],
   "source": [
    "from collections import defaultdict\n",
    "\n",
    "a = defaultdict(int)\n",
    "a[1] += 2\n",
    "print(a[0], a[1])\n",
    "\n",
    "b = defaultdict(lambda: 1)\n",
    "b[2] += 2\n",
    "print(b[1], b[2])\n",
    "\n",
    "def tree():\n",
    "    return defaultdict(tree)\n",
    "\n",
    "T = tree()\n",
    "T['A']['B_1']['C'] = 0\n",
    "T['A']['B_2']['C_1'] = 1\n",
    "T['A']['B_2']['C_2'] = 2\n",
    "from pprint import pprint\n",
    "pprint(T)"
   ]
  },
  {
   "cell_type": "markdown",
   "metadata": {},
   "source": [
    "### 2.3 deque"
   ]
  },
  {
   "cell_type": "code",
   "execution_count": 106,
   "metadata": {},
   "outputs": [
    {
     "name": "stdout",
     "output_type": "stream",
     "text": [
      "deque([-3, -2, -1, 0, 1, 2, 3, 4, 5])\n",
      "deque([5, -3, -2, -1, 0, 1, 2, 3, 4])\n",
      "deque([3, 4, 5, -3, -2, -1, 0, 1, 2])\n",
      "deque([-3, -2, -1, 0, 1, 2, 3, 4, 5])\n",
      "deque([5, 4, 3, 2, 1, 0, -1, -2, -3])\n",
      "-3\n",
      "5\n",
      "deque([4, 3, 0, 2, 1, 0, -1, -2])\n",
      "2\n",
      "2\n",
      "deque([4, 3, 2, 1, 0, -1, -2])\n",
      "deque([4, 3, 2, 1, -1, -2])\n",
      "\n",
      "deque([3, 4, 5], maxlen=3)\n",
      "deque([-1, 3, 4], maxlen=3)\n",
      "deque([-1, 3, 4], maxlen=3)\n",
      "c: deque([], maxlen=3), b: deque([-1, 3, 4], maxlen=3)\n"
     ]
    }
   ],
   "source": [
    "from collections import deque\n",
    "\n",
    "a = deque((0, 1))\n",
    "a.append(2)\n",
    "a.extend({3, 4, 5})\n",
    "a.appendleft(-1)\n",
    "a.extendleft({-2:'A', -3:'B'})\n",
    "print(a)\n",
    "\n",
    "a.rotate()  # 把最后一个值放在前面\n",
    "print(a)\n",
    "a.rotate(2)  # 把最后2个值放在前面\n",
    "print(a)\n",
    "a.rotate(-3)  # 把前面3个值放在后面\n",
    "print(a)\n",
    "a.reverse()  # 倒序排布\n",
    "print(a)\n",
    "print(a.pop())  # 弹出最后一个\n",
    "print(a.popleft())  # 弹出第一个\n",
    "a.insert(2, 0)  # 在index2的位置插入数字0\n",
    "print(a)\n",
    "print(a.count(0))  # 查询0的个数\n",
    "print(a.index(0))  # 查询第一个0的index\n",
    "a.remove(0)  # 删除第一个0\n",
    "print(a)\n",
    "a.remove(0)\n",
    "print(a)\n",
    "print()\n",
    "\n",
    "b = deque(maxlen=3)  # deque最大长度为3\n",
    "b.append(0)\n",
    "b.extend([1,2,3,4,5])\n",
    "print(b)\n",
    "b.appendleft(-1)\n",
    "print(b)\n",
    "c = b.copy()\n",
    "print(c)\n",
    "c.clear()  # 清空deque\n",
    "print(f'c: {c}, b: {b}')"
   ]
  },
  {
   "cell_type": "markdown",
   "metadata": {},
   "source": [
    "### 2.4 Counter"
   ]
  },
  {
   "cell_type": "code",
   "execution_count": 16,
   "metadata": {
    "scrolled": true
   },
   "outputs": [
    {
     "name": "stdout",
     "output_type": "stream",
     "text": [
      "Counter({'a': 4, 'b': 3, 'c': 2, 'd': 1})\n",
      "a a a a b b b c c d \n",
      "[('a', 4), ('b', 3), ('c', 2), ('d', 1)]\n",
      "[('a', 4), ('b', 3)]\n",
      "Counter({'c': 6, 'a': 4, 'd': 4, 'b': 3, 'e': 2, 'f': 1})\n",
      "Counter({'c': 3, 'a': 1, 'd': 1, 'b': 0, 'e': -1, 'f': -2})\n",
      "Counter({'c': 3, 'a': 1, 'd': 1, 'b': 0, 'e': -1, 'f': -2})\n",
      "Counter()\n",
      "\n",
      "Counter({'c': 4, 'a': 1, 'b': 1})\n",
      "Counter({'b': 2, 'c': 2, 'd': 2})\n",
      "Counter({'c': 6, 'b': 3, 'd': 2, 'a': 1})\n",
      "Counter({'c': 2, 'a': 1})\n",
      "Counter({'c': 2, 'b': 1})\n",
      "Counter({'c': 4, 'b': 2, 'd': 2, 'a': 1})\n"
     ]
    }
   ],
   "source": [
    "from collections import Counter\n",
    "\n",
    "C = Counter('aababcabcd')\n",
    "print(C)\n",
    "for e in sorted(C.elements()):\n",
    "    print(e, end = ' ')\n",
    "print()\n",
    "print(C.most_common())  # 显示所有items的统计\n",
    "print(C.most_common(2))  # 显示大于2次的items的统计\n",
    "C.update(Counter('ccdcdecdef'))  # 叠加新的数据累加统计\n",
    "print(C)\n",
    "C.subtract('abcdef' * 3)  # 从统计中减少参数设置的次数\n",
    "print(C)\n",
    "C_copy = C.copy()\n",
    "print(C_copy)\n",
    "C_copy.clear()  # 清空统计\n",
    "print(C_copy)\n",
    "print()\n",
    "\n",
    "C1 = Counter('abcccc')\n",
    "C2 = Counter('bbccdd')\n",
    "print(C1)\n",
    "print(C2)\n",
    "print(C1 + C2)\n",
    "print(C1 - C2)  # 只留下有统计数量的参数\n",
    "print(C1 & C2)  # 两个统计共有的参数，统计值取最小值\n",
    "print(C1 | C2)  # 两个统计全部的参数，统计值取最大值"
   ]
  },
  {
   "cell_type": "markdown",
   "metadata": {},
   "source": [
    "### 2.5 OrderDict"
   ]
  },
  {
   "cell_type": "code",
   "execution_count": 17,
   "metadata": {},
   "outputs": [
    {
     "name": "stdout",
     "output_type": "stream",
     "text": [
      "A C B D \n",
      "A B D C \n",
      "['C', 'D', 'B', 'A']\n"
     ]
    }
   ],
   "source": [
    "from collections import OrderedDict\n",
    "\n",
    "D = OrderedDict()\n",
    "D['A'] = None\n",
    "D['C'] = None\n",
    "D['B'] = None\n",
    "D['D'] = None\n",
    "for k in D:\n",
    "    print(k, end = ' ')  # OrderDict是按照先后赋值顺序排布的\n",
    "print()\n",
    "\n",
    "D.move_to_end('C')\n",
    "for k in D:\n",
    "    print(k, end = ' ')\n",
    "print()\n",
    "print(list(reversed(D)))"
   ]
  },
  {
   "cell_type": "markdown",
   "metadata": {},
   "source": [
    "### 2.6 ChainMap"
   ]
  },
  {
   "cell_type": "code",
   "execution_count": 18,
   "metadata": {},
   "outputs": [
    {
     "name": "stdout",
     "output_type": "stream",
     "text": [
      "ChainMap({'A': 0}, {'A': 1}, {'A': 2, 'B': 2})\n",
      "ChainMap({}, {'A': 1}, {'A': 2, 'B': 2})\n",
      "ChainMap({}, {'A': 1}, {'A': 2, 'B': 2})\n",
      "ChainMap({}, {'A': 11}, {'A': 2, 'B': 2})\n",
      "ChainMap({'A': 'a'}, {'A': 11}, {'A': 2, 'B': 2})\n",
      "\n",
      "11\n",
      "ChainMap({'B': -1, 'C': -1}, {}, {'A': 11}, {'A': 2, 'B': 2})\n",
      "-1\n",
      "('C', -1)\n"
     ]
    }
   ],
   "source": [
    "from collections import ChainMap\n",
    "\n",
    "d0 = {'A': 0}\n",
    "d1 = {'A': 1}\n",
    "d2 = {'A': 2, 'B':2}\n",
    "C = ChainMap(d0, d1, d2)\n",
    "print(C)\n",
    "C.clear()\n",
    "print(C)\n",
    "C_copy = C.copy()\n",
    "print(C_copy)\n",
    "d1['A'] = 11\n",
    "C_copy['A'] = 'a'\n",
    "print(C)\n",
    "print(C_copy)\n",
    "print()\n",
    "\n",
    "extended_C = C.new_child({'B': -1, 'C': -1})  # 在最左侧加入一个新对象\n",
    "print(extended_C.get('A'))\n",
    "print(extended_C)\n",
    "print(extended_C.pop('B'))\n",
    "print(extended_C.popitem())"
   ]
  },
  {
   "cell_type": "markdown",
   "metadata": {},
   "source": [
    "### Deepcopy"
   ]
  },
  {
   "cell_type": "code",
   "execution_count": null,
   "metadata": {},
   "outputs": [],
   "source": [
    "from copy import deepcopy\n",
    "\n",
    "a = [1, 2, [3, 4], 5]\n",
    "print(id(a))\n",
    "\n",
    "b = a\n",
    "print(id(b))\n",
    "\n",
    "c = deepcopy(a)\n",
    "print(b, id(c), sep='\\n')"
   ]
  },
  {
   "cell_type": "markdown",
   "metadata": {},
   "source": [
    "### Assignment"
   ]
  },
  {
   "cell_type": "code",
   "execution_count": 8,
   "metadata": {},
   "outputs": [
    {
     "name": "stdout",
     "output_type": "stream",
     "text": [
      "[1, 2] [1, 2, 3, 4]\n",
      "[1, 2, 3, 4] [1, 2, 3, 4]\n"
     ]
    }
   ],
   "source": [
    "L = [1, 2]\n",
    "M = L\n",
    "L = L + [3, 4]  # Concatenation makes a new object\n",
    "print(M, L)\n",
    "\n",
    "L = [1, 2]\n",
    "M = L\n",
    "L += [3, 4]  # += augmented assignment means extend\n",
    "print(M, L)"
   ]
  },
  {
   "cell_type": "code",
   "execution_count": null,
   "metadata": {},
   "outputs": [],
   "source": [
    "class FileFaker:\n",
    "    def write(self, string):\n",
    "        print(string)\n",
    "        \n",
    "import sys\n",
    "sys.stdout = FileFaker()\n",
    "print('hello world', file='test.txt')"
   ]
  },
  {
   "cell_type": "markdown",
   "metadata": {},
   "source": [
    "### String"
   ]
  },
  {
   "cell_type": "code",
   "execution_count": 27,
   "metadata": {
    "scrolled": true
   },
   "outputs": [
    {
     "name": "stdout",
     "output_type": "stream",
     "text": [
      "4\n",
      "6\n",
      "normal_test\n",
      "normal_string\n",
      "['a', 'bb', 'ccc', 'dddd']\n",
      "a,bb,ccc,dddd A,BB,CCC,DDDD a,bb,ccc,dddd\n",
      "test    |test\n",
      "spam, eggs, and SPAM!\n",
      "Hello     Python world|Python \n",
      "pa\n",
      "pa\n",
      "maps\n",
      "map\n",
      "maps\n",
      "115\n",
      "s\n",
      "23\n",
      "5\n"
     ]
    }
   ],
   "source": [
    "# 1.bytearray: only for text whose characters are all at most 8-bits wide (e.g., ASCII)\n",
    "a = bytearray(b'test')\n",
    "a.extend(b'_extend')\n",
    "a.decode()\n",
    "\n",
    "# 2.find: find the offset of a substring in S\n",
    "print(a.find(b'_'))\n",
    "b = 'normal_string'\n",
    "print(b.find('_'))\n",
    "\n",
    "# 3.replace: replace occurrences of a string in S with another\n",
    "print(b.replace('string', 'test'))\n",
    "print(b)\n",
    "\n",
    "# 4.split: split on a delimiter into a list of substrings\n",
    "c = 'a,bb,ccc,dddd'\n",
    "line = c.split(',')\n",
    "print(line)\n",
    "\n",
    "# 5.upper, lower: upper- and lowercase conversions\n",
    "d = c.upper()\n",
    "e = d.lower()\n",
    "print(c, d, e)\n",
    "\n",
    "# 6.rstrip: remove whitespace characters on the right side\n",
    "f = 'test    '\n",
    "g = f.rstrip()\n",
    "print(f, g, sep='|')\n",
    "\n",
    "# 7.format\n",
    "print('{}, eggs, and {}'.format('spam', 'SPAM!'))\n",
    "\n",
    "# 8.dir: find all methods\n",
    "# print(dir(a), dir(b), sep='\\n')\n",
    "\n",
    "# 9.re: pattern matching module\n",
    "import re\n",
    "match = re.match('Hello[ \\t]*(.*)world', 'Hello     Python world')\n",
    "print(match.group(), match.group(1), sep='|')\n",
    "\n",
    "# 10.slice\n",
    "print('spam'[1:3])\n",
    "print('spam'[slice(1, 3)])\n",
    "print('spam'[::-1])\n",
    "print('spam'[5:0:-1])\n",
    "print('spam'[slice(None, None, -1)])\n",
    "\n",
    "# 11.character code conversions\n",
    "print(ord('s'))\n",
    "print(chr(115))\n",
    "\n",
    "# 12.repr and eval methods\n",
    "print(repr(2) + '3')\n",
    "print(eval('2') + 3)"
   ]
  },
  {
   "cell_type": "markdown",
   "metadata": {},
   "source": [
    "### List"
   ]
  },
  {
   "cell_type": "code",
   "execution_count": 15,
   "metadata": {},
   "outputs": [
    {
     "name": "stdout",
     "output_type": "stream",
     "text": [
      "append, extend\n",
      "[1, 3, 5, 2]\n",
      "[1, 3, 5, 2, 3, 4]\n",
      "pop, remove\n",
      "4|[1, 3, 5, 2, 3]\n",
      "3|[1, 3, 5, 2]\n",
      "[1, 5, 2]\n",
      "sort\n",
      "[1, 5, 2]|[1, 2, 5]\n",
      "[1, 2, 5]|[1, 2, 5]\n",
      "reverse\n",
      "[5, 2, 1]\n",
      "[1, 2, [1, 5]]|[1, 2, [1, 5]]\n",
      "[1, 2, [1, 5]]|[1, 2, [1, 10]]\n"
     ]
    }
   ],
   "source": [
    "# 1.append, extend\n",
    "print('append, extend')\n",
    "a = [1, 3, 5]\n",
    "a.append(2)\n",
    "print(a)\n",
    "a.extend([3,4])\n",
    "print(a)\n",
    "\n",
    "# 2.pop, remove\n",
    "print('pop, remove')\n",
    "print(a.pop(), a, sep='|')\n",
    "print(a.pop(4), a, sep='|')\n",
    "a.remove(3)\n",
    "print(a)\n",
    "\n",
    "# 3.sort\n",
    "print('sort')\n",
    "b = sorted(a)\n",
    "print(a, b, sep='|')\n",
    "a.sort()\n",
    "print(a, b, sep='|')\n",
    "\n",
    "# 4.reverse\n",
    "print('reverse')\n",
    "a.reverse()\n",
    "print(a)\n",
    "\n",
    "# 5.slicing & deepcopy\n",
    "c = [1, 2, [1, 2]]\n",
    "d = c[:]\n",
    "d[2][1] = 5\n",
    "print(c, d, sep='|')\n",
    "from copy import deepcopy\n",
    "e = deepcopy(c)\n",
    "e[2][1] = 10\n",
    "print(c, e, sep='|')"
   ]
  },
  {
   "cell_type": "code",
   "execution_count": 77,
   "metadata": {},
   "outputs": [
    {
     "name": "stdout",
     "output_type": "stream",
     "text": [
      "\n"
     ]
    },
    {
     "data": {
      "image/png": "[encoded data removed]",
      "text/plain": [
       "<matplotlib.figure.Figure at 0x105605128>"
      ]
     },
     "metadata": {},
     "output_type": "display_data"
    }
   ],
   "source": [
    "%matplotlib inline\n",
    "from matplotlib.pyplot import plot\n",
    "\n",
    "from time import time\n",
    "\n",
    "# Inserting elements at the end of a list\n",
    "data = []\n",
    "for i in range(1000, 50001, 1000):\n",
    "    L = []\n",
    "    before = time()\n",
    "    for _ in range(i):\n",
    "        L.append(None)\n",
    "    after = time()\n",
    "    data.append((i, after - before))\n",
    "plot(*tuple(zip(*data)))\n",
    "print()"
   ]
  },
  {
   "cell_type": "code",
   "execution_count": 79,
   "metadata": {
    "scrolled": true
   },
   "outputs": [
    {
     "name": "stdout",
     "output_type": "stream",
     "text": [
      "\n"
     ]
    },
    {
     "data": {
      "image/png": "[encoded data removed]",
      "text/plain": [
       "<matplotlib.figure.Figure at 0x1055b1c18>"
      ]
     },
     "metadata": {},
     "output_type": "display_data"
    }
   ],
   "source": [
    "%matplotlib inline\n",
    "from matplotlib.pyplot import plot\n",
    "\n",
    "from time import time\n",
    "\n",
    "# Inserting elements at the beginning of a list\n",
    "data = []\n",
    "for i in range(1000, 50001, 1000):\n",
    "    L = []\n",
    "    before = time()\n",
    "    for _ in range(i):\n",
    "        L.insert(0, None)\n",
    "    after = time()\n",
    "    data.append((i, after - before))\n",
    "plot(*tuple(zip(*data)))\n",
    "print()"
   ]
  },
  {
   "cell_type": "code",
   "execution_count": 80,
   "metadata": {},
   "outputs": [
    {
     "name": "stdout",
     "output_type": "stream",
     "text": [
      "\n"
     ]
    },
    {
     "data": {
      "image/png": "[encoded data removed]",
      "text/plain": [
       "<matplotlib.figure.Figure at 0x105d5bc50>"
      ]
     },
     "metadata": {},
     "output_type": "display_data"
    }
   ],
   "source": [
    "# Size of a list initialised to a given number of elements\n",
    "%matplotlib inline\n",
    "from matplotlib.pyplot import plot\n",
    "\n",
    "from sys import getsizeof\n",
    "\n",
    "data = []\n",
    "for i in range(1, 51):\n",
    "    data.append((i, getsizeof([None] * i)))\n",
    "plot(*tuple(zip(*data)))\n",
    "print()   "
   ]
  },
  {
   "cell_type": "code",
   "execution_count": 81,
   "metadata": {
    "scrolled": false
   },
   "outputs": [
    {
     "name": "stdout",
     "output_type": "stream",
     "text": [
      "\n"
     ]
    },
    {
     "data": {
      "image/png": "[encoded data removed]",
      "text/plain": [
       "<matplotlib.figure.Figure at 0x105ac4ac8>"
      ]
     },
     "metadata": {},
     "output_type": "display_data"
    }
   ],
   "source": [
    "# Size of a list to which elements are appended incrementally\n",
    "%matplotlib inline\n",
    "from matplotlib.pyplot import plot\n",
    "\n",
    "from sys import getsizeof\n",
    "\n",
    "data = []\n",
    "L = []\n",
    "for i in range(1, 51):\n",
    "    L.append(None)\n",
    "    data.append((i, getsizeof(L)))\n",
    "plot(*tuple(zip(*data)))\n",
    "print() "
   ]
  },
  {
   "cell_type": "markdown",
   "metadata": {},
   "source": [
    "### Dictionary"
   ]
  },
  {
   "cell_type": "code",
   "execution_count": 7,
   "metadata": {
    "scrolled": true
   },
   "outputs": [
    {
     "name": "stdout",
     "output_type": "stream",
     "text": [
      "a => 1\n",
      "b => 3\n",
      "c => 2\n"
     ]
    }
   ],
   "source": [
    "d = {'a': 1, 'b': 3, 'c': 2}\n",
    "for key in sorted(d):\n",
    "    print(key, '=>', d[key]) # 字典没有顺序，但可以用sorted(<dictionary>)的方式为key排序"
   ]
  },
  {
   "cell_type": "markdown",
   "metadata": {},
   "source": [
    "### Set"
   ]
  },
  {
   "cell_type": "code",
   "execution_count": 12,
   "metadata": {},
   "outputs": [
    {
     "name": "stdout",
     "output_type": "stream",
     "text": [
      "{'a', 'e', 'c'}\n",
      "{'x', 'z', 'c', 'b', 'e', 'y', 'd', 'a'}\n",
      "{'d', 'b'}\n",
      "{'x', 'z', 'c', 'a', 'e', 'y'}\n",
      "False False\n",
      "True\n",
      "{'d', 'b'}\n",
      "{'SPAM', 'd', 'b'}\n",
      "{'X', 'd', 'b', 'Y', 'SPAM'}\n",
      "{'X', 'd', 'Y', 'SPAM'} 4\n"
     ]
    }
   ],
   "source": [
    "# sets can only contain immutable (a.k.a. “hashable”) object types.\n",
    "x = set('abcde')\n",
    "y = set('bdxyz')\n",
    "\n",
    "print(x - y)  # difference\n",
    "print(x | y)  # union\n",
    "print(x & y)  # intersection\n",
    "print(x ^ y)  # symmetric difference (XOR)\n",
    "print(x > y, x < y)  # superset, subset\n",
    "\n",
    "print('e' in  x)  # membership\n",
    "z = x.intersection(y)  # intersection\n",
    "print(z)\n",
    "z.add('SPAM')  # insertion\n",
    "print(z)\n",
    "z.update(set(['X', 'Y']))  # merge\n",
    "print(z)\n",
    "z.remove('b')  # delete\n",
    "print(z, len(z))\n"
   ]
  },
  {
   "cell_type": "markdown",
   "metadata": {},
   "source": [
    "### Decorator"
   ]
  },
  {
   "cell_type": "code",
   "execution_count": 82,
   "metadata": {},
   "outputs": [
    {
     "name": "stdout",
     "output_type": "stream",
     "text": [
      "Count nb 1 to <function add_up at 0x105b5ed90>\n",
      "8\n",
      "Count nb 2 to <function add_up at 0x105b5ed90>\n",
      "22\n",
      "Count nb 3 to <function add_up at 0x105b5ed90>\n",
      "38\n"
     ]
    }
   ],
   "source": [
    "class count_calls:\n",
    "    def __init__(self, f):\n",
    "        self.count = 0\n",
    "        self.f = f\n",
    "    #用class的attribute来记录count的值，初始为0，每执行一次被count_call这个class decorator修饰的函数(self.f = f)，则count值加1\n",
    "    def __call__(self, *args, **kwargs):\n",
    "        self.count += 1\n",
    "        print(f'Count nb {self.count} to {self.f}')\n",
    "        return self.f(*args, **kwargs)\n",
    "        #允许被修饰函数f存在任意一种传参形式（前面补充背景介绍的）\n",
    "\n",
    "# Equivalent to:\n",
    "# add_up = count_calls(add_up)\n",
    "#换言之，可以从字面理解decorator，就是在被修饰函数前加个花边，这里加的是count_calls\n",
    "#type与decorator一致，所以add_up被修饰后从function变成了class，当然class中的一个属性就是add_up这个function\n",
    "#也就是说，用class decorator时，__init__至少要有两个attributes\n",
    "#一个是扩展的功能，这里是计数\n",
    "#另一个是被修饰的function，这里是self.f = f\n",
    "\n",
    "@count_calls\n",
    "def add_up(x, y, *, a, b):\n",
    "#*作为一个标记，可能代表后续的参数要以键值对形式传入。没找到说明，实验所得\n",
    "    return x + y + a + b\n",
    "\n",
    "print(add_up(1, 2, a = 2, b = 3))\n",
    "#add_up在这里是一个count_calls class的instance，第一次传参后instance的default count设置为0\n",
    "#执行add_up(1, 2, a = 2, b = 3)实际上运行的是instance中的__call__\n",
    "#1，2传入*args形成一个tuple(1,2)\n",
    "#a = 2, b =3传入**kwargs形成键值对{a:2, b:3}\n",
    "#然后count属性加1，输出句子，并且调用add_up function（注意不再是class instance），在function中计算得到参数和，输出和8\n",
    "print(add_up(4, 5, a = 6, b = 7))\n",
    "print(add_up(8, 9, a = 10, b = 11))\n",
    "\n",
    ">>>\n",
    "Count nb 1 to <function add_up at 0x102618f28>\n",
    "8\n",
    "Count nb 2 to <function add_up at 0x102618f28>\n",
    "22\n",
    "Count nb 3 to <function add_up at 0x102618f28>\n",
    "38"
   ]
  },
  {
   "cell_type": "code",
   "execution_count": 13,
   "metadata": {},
   "outputs": [
    {
     "name": "stdout",
     "output_type": "stream",
     "text": [
      "Count nb 1 to <function add_up at 0x10a95c0d0>\n",
      "8\n",
      "Count nb 2 to <function add_up at 0x10a95c0d0>\n",
      "22\n",
      "Count nb 3 to <function add_up at 0x10a95c0d0>\n",
      "38\n"
     ]
    }
   ],
   "source": [
    "def count_calls(f):\n",
    "    count = 0\n",
    "    #用全局变量count来记录使用次数，不影响wrap函数的使用\n",
    "    def wrap(*args, **kwargs):\n",
    "        nonlocal count\n",
    "        count += 1\n",
    "        print(f'Count nb {count} to {f}')\n",
    "        return f(*args, **kwargs)\n",
    "        #允许被修饰函数f存在任意一种传参形式（前面补充背景介绍的）\n",
    "    return wrap\n",
    "\n",
    "\n",
    "# Equivalent to:\n",
    "# add_up = count_calls(add_up)\n",
    "#与class decorator类似，这里也是在add_up前加个花边count_calls\n",
    "#与之前不同的是type依然是function，但不再是add_up的function，而是count_calls的function\n",
    "\n",
    "@count_calls\n",
    "def add_up(x, y, *, a, b):\n",
    "    return x + y + a + b\n",
    "\n",
    "print(add_up(1, 2, a = 2, b = 3))\n",
    "#add_up在这里是count_calls的function\n",
    "#传入参数后先设置全局变量count = 0\n",
    "#然后进入嵌套函数wrap，传参过程和class decorator一样，不再赘述\n",
    "#wrap的return调用了f，也就是add_up\n",
    "#在add_up里求和输出\n",
    "print(add_up(4, 5, a = 6, b = 7))\n",
    "print(add_up(8, 9, a = 10, b = 11))\n",
    "\n",
    ">>>\n",
    "Count nb 1 to <function add_up at 0x1026350d0>\n",
    "8\n",
    "Count nb 2 to <function add_up at 0x1026350d0>\n",
    "22\n",
    "Count nb 3 to <function add_up at 0x1026350d0>\n",
    "38"
   ]
  },
  {
   "cell_type": "code",
   "execution_count": null,
   "metadata": {},
   "outputs": [],
   "source": [
    "def count_calls_starting_from(start = 0):\n",
    "#为了实现自身的参数，在之前函数的嵌套基础上，进一步嵌套\n",
    "#default默认值是0，这样可以控制从多少开始计数，decorator功能进一步强大\n",
    "    def count_calls(f):\n",
    "        count = start\n",
    "    \n",
    "        def wrap(*args, **kwargs):\n",
    "            nonlocal count\n",
    "            count += 1\n",
    "            print(f'Count nb {count} to {f}')\n",
    "            return f(*args, **kwargs)\n",
    "        \n",
    "        return wrap\n",
    "    \n",
    "    return count_calls\n",
    "\n",
    "\n",
    "# Equivalent to:\n",
    "# add_up = count_calls_starting_from(1)(add_up)\n",
    "@count_calls_starting_from(1)\n",
    "#传入decorator的参数是1，意味着不再只能从0开始记录调用次数，可以从任意值开始计数\n",
    "def add_up(x, y, *, a, b):\n",
    "    return x + y + a + b\n",
    "\n",
    "print(add_up(1, 2, a = 2, b = 3))\n",
    "print(add_up(4, 5, a = 6, b = 7))\n",
    "print(add_up(8, 9, a = 10, b = 11))\n",
    "\n",
    ">>>\n",
    "Count nb 2 to <function add_up at 0x102635d90>\n",
    "8\n",
    "Count nb 3 to <function add_up at 0x102635d90>\n",
    "22\n",
    "Count nb 4 to <function add_up at 0x102635d90>\n",
    "38"
   ]
  },
  {
   "cell_type": "code",
   "execution_count": null,
   "metadata": {},
   "outputs": [],
   "source": [
    "def count_calls(cls):\n",
    "    def wrap(datum):\n",
    "        wrap.count += 1\n",
    "        print('Count nb {} to {}'.format(wrap.count, cls))\n",
    "        return cls(datum)\n",
    "    \n",
    "    wrap.count = 0\n",
    "    return wrap\n",
    "#decorator的部分和前面三个小节都是相同原理，这里依然是全局变量的思路\n",
    "#不同的是，由于被修饰的是class，不需要在warp中声明nonlocal variable，而是可以直接调用class的属性来完成\n",
    "\n",
    "# Equivalent to:\n",
    "# C = count_calls(C)\n",
    "@count_calls\n",
    "class C:\n",
    "    def __init__(self, datum):\n",
    "        self.datum = datum\n",
    "\n",
    "\n",
    "I1, I2, I3 = C(11), C(12), C(13)\n",
    "#以I1 = C(11)为例，C(11)在这里不是class的一个instance，而是function count_calls()，warp变成了class的一个instance\n",
    "#运行function count_calls(C(11))，所以cls的type是class\n",
    "#其他流程和前面3个小节一致，不再赘述\n",
    "print(I1.datum, I2.datum, I3.datum)\n",
    "\n",
    ">>>\n",
    "Count nb 1 to <class '__main__.C'>\n",
    "Count nb 2 to <class '__main__.C'>\n",
    "Count nb 3 to <class '__main__.C'>\n",
    "11 12 13"
   ]
  },
  {
   "cell_type": "markdown",
   "metadata": {},
   "source": [
    "### 传参"
   ]
  },
  {
   "cell_type": "code",
   "execution_count": 72,
   "metadata": {},
   "outputs": [
    {
     "name": "stdout",
     "output_type": "stream",
     "text": [
      "16\n"
     ]
    }
   ],
   "source": [
    "def func():\n",
    "    x = 4\n",
    "    action = (lambda n: x ** n)\n",
    "    return action\n",
    "x = func()\n",
    "print(x(2))"
   ]
  },
  {
   "cell_type": "markdown",
   "metadata": {},
   "source": [
    "### Control FLow"
   ]
  },
  {
   "cell_type": "code",
   "execution_count": 23,
   "metadata": {},
   "outputs": [
    {
     "name": "stdout",
     "output_type": "stream",
     "text": [
      "5 0\t4 1\t3 2\t3 2\t4 1\t\n",
      "\n",
      "5 0\t4 0\t3 0\t2 0\t1 0\t\n",
      "5 1\t4 1\t3 1\t2 1\t1 1\t\n",
      "5 2\t4 2\t3 2\t2 2\t2 1\t\n",
      "5 3\t4 3\t3 3\t3 2\t3 1\t\n",
      "5 4\t4 4\t4 3\t4 2\t4 1\t\n",
      "[(0, 5), (1, 4), (2, 3), (3, 2), (4, 1)]\n"
     ]
    }
   ],
   "source": [
    "for x, y in zip((range(5)), (range(5, 0, -1))):\n",
    "    print(x, y, end = '\\t') if x > y else print(y, x, end = '\\t')\n",
    "print('\\n')\n",
    "\n",
    "for x in range(5):\n",
    "    for y in range(5, 0, -1):\n",
    "        print(x, y, end = '\\t') if x > y else print(y, x, end = '\\t')\n",
    "    print()\n",
    "\n",
    "print(list(zip((range(5)), (range(5, 0, -1)))))"
   ]
  },
  {
   "cell_type": "markdown",
   "metadata": {},
   "source": [
    "## class"
   ]
  },
  {
   "cell_type": "code",
   "execution_count": 87,
   "metadata": {},
   "outputs": [
    {
     "name": "stdout",
     "output_type": "stream",
     "text": [
      "B\n",
      "A\n",
      "T\n",
      "[<class '__main__.T'>, <class '__main__.A'>, <class '__main__.B'>, <class 'object'>]\n",
      "(<class '__main__.T'>, <class '__main__.A'>, <class '__main__.B'>, <class 'object'>)\n",
      "(<class '__main__.A'>, <class '__main__.B'>)\n"
     ]
    }
   ],
   "source": [
    "class A:\n",
    "    def fun(self):\n",
    "        super().fun()  # 这里的super()不是只能指父类\n",
    "        print('A')\n",
    "        \n",
    "class B:\n",
    "    def fun(self):\n",
    "        print('B')\n",
    "        \n",
    "class T(A, B):\n",
    "    def fun(self):\n",
    "        super().fun()  # A里面fun调用super()，A没有父类，所以调用T的继承父类的一个链接，变成调用B\n",
    "        print('T')\n",
    "\n",
    "t = T()\n",
    "t.fun()\n",
    "print(T.mro(), T.__mro__, T.__bases__, sep='\\n')"
   ]
  },
  {
   "cell_type": "code",
   "execution_count": null,
   "metadata": {},
   "outputs": [],
   "source": [
    "class T:\n",
    "    i = 1\n",
    "    lst = []\n",
    "    \n",
    "t1 = T()\n",
    "t2 = T()\n",
    "t1.i = 3\n",
    "T.i = 2  # 修改了t2的i值\n",
    "print(t1.i)\n",
    "print(t2.i)\n",
    "print(T.i)\n",
    "\n",
    "t2.lst.append('x')  # 修改了t1和T的lst\n",
    "t2.lst = ['y']\n",
    "print(t1.lst)\n",
    "print(t2.lst)\n",
    "print(T.lst)"
   ]
  },
  {
   "cell_type": "markdown",
   "metadata": {},
   "source": [
    "## Bisect  \n",
    "寻找维持list排序的index"
   ]
  },
  {
   "cell_type": "code",
   "execution_count": null,
   "metadata": {},
   "outputs": [],
   "source": [
    "import bisect\n",
    "\n",
    "L = [1, 2, 2, 3, 3, 3]\n",
    "\n",
    "print(bisect.bisect(L, 2))  # bisect默认是bisect_right\n",
    "print(bisect.bisect_right(L, 2))  # 在L中插入元素2，返回维持排序不变的最右侧的index\n",
    "print(bisect.bisect_left(L, 2))  # 在L中插入元素2，返回维持排序不变的最左侧的index\n",
    "print(bisect.bisect(L, 2, 4))  # 在L中插入元素2，返回从index4开始维持排序不变的最右侧的index\n",
    "print(bisect.bisect(L, 2, 0, 1))  # 在L中插入元素2，返回从index0到1中维持排序不变的最右侧的index\n",
    "\n",
    "bisect.insort(L, 2) # insort默认是insort_right\n",
    "print(L)\n",
    "bisect.insort_right(L, 2)  # 在L中插入元素2，维持排序不变，最右侧插入\n",
    "print(L)\n",
    "bisect.insort_left(L, 2)  # 在L中插入元素2，维持排序不变，最左侧插入\n",
    "print(L)\n",
    "bisect.insort(L, 2, 7)  # 在L中插入元素2，维持排序不变，从第7个index开始，最右侧插入\n",
    "print(L)\n",
    "bisect.insort(L, 6, 0, 5)  # 在L中插入元素6，维持排序不变，从第0个index开始到第5个index结束，最右侧插入\n",
    "print(L)"
   ]
  },
  {
   "cell_type": "markdown",
   "metadata": {},
   "source": [
    "### boundary和易错点"
   ]
  },
  {
   "cell_type": "code",
   "execution_count": 19,
   "metadata": {},
   "outputs": [
    {
     "name": "stdout",
     "output_type": "stream",
     "text": [
      "[1, 2, [...]]\n"
     ]
    }
   ],
   "source": [
    "L = [1, 2]\n",
    "L.append(L)  # L会不断的引用到头部插入，[1, 2, [1, 2, [1, 2...无限循环，出现[[...]]的结构\n",
    "print(L)"
   ]
  },
  {
   "cell_type": "markdown",
   "metadata": {},
   "source": [
    "### 传参"
   ]
  },
  {
   "cell_type": "code",
   "execution_count": 8,
   "metadata": {},
   "outputs": [
    {
     "name": "stdout",
     "output_type": "stream",
     "text": [
      "1 (2,) 3\n",
      "1 () 3\n",
      "1 (2, 3) 4\n",
      "1 2 3\n"
     ]
    }
   ],
   "source": [
    "def kwonly(a, *b, c):\n",
    "    print(a, b, c)\n",
    "    \n",
    "kwonly(1, 2, c=3)\n",
    "kwonly(a=1, c=3)\n",
    "kwonly(1,2,3, c=4)\n",
    "\n",
    "def kwonly1(a, *, b, c):\n",
    "    print(a, b, c)\n",
    "    \n",
    "kwonly1(1, c=3, b=2)\n",
    "# kwonly1(1, 2, 3)"
   ]
  },
  {
   "cell_type": "markdown",
   "metadata": {},
   "source": [
    "### 迭代器"
   ]
  },
  {
   "cell_type": "code",
   "execution_count": 51,
   "metadata": {},
   "outputs": [
    {
     "name": "stdout",
     "output_type": "stream",
     "text": [
      "1 2 3\n",
      "1 2 3\n",
      "a df cm\n",
      "0 1\n",
      "[11, 12, 13, 14, 15]\n",
      "[22, 26, 30]\n",
      "[23, 24, 27, 28, 31, 32]\n",
      "1 2\n",
      "[1, 2, 3, 4, 5, 6, 7, 8]\n",
      "[0, 1, 1, 2, 3, 5, 8, 13, 21, 34, 55, 89, 144, 233, 377, 610, 987, 1597, 2584, 4181, 6765]\n",
      "\n",
      "    create fibbnacci numbers\n",
      "    \n"
     ]
    }
   ],
   "source": [
    "L = [1, 2, 3]\n",
    "I = iter(L)\n",
    "print(I. __next__(), I. __next__(), next(I))\n",
    "\n",
    "S = {1, 2, 3}\n",
    "I = iter(S)\n",
    "print(I.__next__(), next(I), I. __next__())\n",
    "\n",
    "D = {\"a\": 1, \"df\": 2, \"cm\": 3}\n",
    "I = iter(D)\n",
    "print(next(I), next(I), next(I))\n",
    "\n",
    "R = range(5)\n",
    "I = iter(R)\n",
    "print(next(I), I.__next__())\n",
    "\n",
    "L = [1, 2, 3, 4, 5]\n",
    "L = [x + 10 for x in L]  # list comprehension通常与for语句连用，因为本质上list comprehension创建了一个新的list\n",
    "print(L)\n",
    "L = [x * 2 for x in L if x % 2]  # list comprehension还可以用if语句做filter\n",
    "print(L)\n",
    "L = [x + y for x in L for y in [1, 2]]  # list comprehension还可以做nested for\n",
    "print(L)\n",
    "\n",
    "class My:\n",
    "    def __init__(self, l):\n",
    "        self.l = iter(l)\n",
    "    def __next__(self):\n",
    "        return next(self.l)\n",
    "m = My([1, 2, 3])\n",
    "print(next(m), next(m))\n",
    "\n",
    "class Count:\n",
    "    def __init__(self, low, high):\n",
    "        self.current = low\n",
    "        self.high = high\n",
    "    def __iter__(self):\n",
    "        return self\n",
    "    def __next__(self):\n",
    "        if self.current > self.high:\n",
    "            raise StopIteration\n",
    "        else:\n",
    "            self.current += 1\n",
    "            return self.current - 1\n",
    "print([x for x in Count(1, 8)])\n",
    "\n",
    "class Fib:\n",
    "    \"\"\"\n",
    "    create fibbnacci numbers\n",
    "    \"\"\"\n",
    "    def __init__(self, upper):\n",
    "        self.upper = upper\n",
    "    def __iter__(self):\n",
    "        self.a = 0\n",
    "        self.b = 1\n",
    "        return self\n",
    "    def __next__(self):\n",
    "        fib = self.a\n",
    "        if fib > self.upper:\n",
    "            raise StopIteration\n",
    "        else:\n",
    "            self.a, self.b = self.b, self.b + self.a\n",
    "            return fib\n",
    "print([x for x in Fib(10000)], Fib.__doc__, sep='\\n')"
   ]
  },
  {
   "cell_type": "markdown",
   "metadata": {},
   "source": [
    "### map, zip and filter iterables"
   ]
  },
  {
   "cell_type": "code",
   "execution_count": 36,
   "metadata": {},
   "outputs": [
    {
     "name": "stdout",
     "output_type": "stream",
     "text": [
      "1 0 [2, 3, 6]\n",
      "[(1, 10), (2, 20), (3, 30), (4, 40)]\n",
      "['boom', 'Hi']\n"
     ]
    }
   ],
   "source": [
    "M = map(abs, (-1, 0, 2))\n",
    "print(next(M), M.__next__(), list(map(abs, (-2, 3, -6))))\n",
    "\n",
    "Z = zip((1, 2, 3, 4, 5), (10, 20, 30, 40))\n",
    "print(list(Z))\n",
    "\n",
    "F = filter(bool, ['boom', '', 'Hi'])\n",
    "print(list(F))\n"
   ]
  },
  {
   "cell_type": "markdown",
   "metadata": {},
   "source": [
    "### decimal"
   ]
  },
  {
   "cell_type": "code",
   "execution_count": 64,
   "metadata": {},
   "outputs": [
    {
     "name": "stdout",
     "output_type": "stream",
     "text": [
      "6.244608000000000217795559365\n",
      "6.244608000000000000000000000\n"
     ]
    }
   ],
   "source": [
    "from decimal import Decimal\n",
    "\n",
    "a = Decimal(3.008)\n",
    "b = Decimal(2.076)\n",
    "print(a * b)\n",
    "\n",
    "a = Decimal(3.008).quantize(Decimal('.00000000000001'))\n",
    "b = Decimal(2.076).quantize(Decimal('.00000000000001'))\n",
    "print(a * b)"
   ]
  },
  {
   "cell_type": "markdown",
   "metadata": {},
   "source": [
    "### Scopes: LEGB"
   ]
  },
  {
   "cell_type": "code",
   "execution_count": 65,
   "metadata": {},
   "outputs": [
    {
     "name": "stdout",
     "output_type": "stream",
     "text": [
      "True\n"
     ]
    }
   ],
   "source": [
    "import builtins\n",
    "print(zip is builtins.zip)  #平时使用的builtins实际上是LEGB检索最后B中找到的namespace\n",
    "\n"
   ]
  }
 ],
 "metadata": {
  "kernelspec": {
   "display_name": "Python 3",
   "language": "python",
   "name": "python3"
  },
  "language_info": {
   "codemirror_mode": {
    "name": "ipython",
    "version": 3
   },
   "file_extension": ".py",
   "mimetype": "text/x-python",
   "name": "python",
   "nbconvert_exporter": "python",
   "pygments_lexer": "ipython3",
   "version": "3.6.4"
  }
 },
 "nbformat": 4,
 "nbformat_minor": 2
}
