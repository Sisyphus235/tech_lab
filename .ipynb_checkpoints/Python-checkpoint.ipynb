{
 "cells": [
  {
   "cell_type": "markdown",
   "metadata": {},
   "source": [
    "## 1.Built-ins\n",
    "### 1.1 types and classes"
   ]
  },
  {
   "cell_type": "code",
   "execution_count": 31,
   "metadata": {},
   "outputs": [
    {
     "name": "stdout",
     "output_type": "stream",
     "text": [
      "<class 'bool'> <class 'int'> <class 'float'> <class 'str'> <class 'list'> <class 'tuple'> <class 'dict'> <class 'set'>\n",
      "<class 'type'> <class 'type'> <class 'type'> <class 'type'> <class 'type'> <class 'type'> <class 'type'> <class 'type'>\n",
      "True False True False\n",
      "True False\n"
     ]
    }
   ],
   "source": [
    "print(type(True), type(1), type (1.), type('1'), type([]), type(()), type({}), type({1}))\n",
    "print(type(bool), type(int), type(float), type(str), type(list), type(type), type(dict), type(set))\n",
    "print(isinstance(1, int), isinstance(1, float), isinstance({2}, set), isinstance({}, set))\n",
    "print(issubclass(bool, int), issubclass(int, float))"
   ]
  },
  {
   "cell_type": "markdown",
   "metadata": {},
   "source": [
    "### 1.2 literal representations"
   ]
  },
  {
   "cell_type": "code",
   "execution_count": 30,
   "metadata": {
    "scrolled": true
   },
   "outputs": [
    {
     "name": "stdout",
     "output_type": "stream",
     "text": [
      "True True True False False False False\n",
      "17 17 17 17 17 17\n",
      "1 17 -17 17 17 17 17\n",
      "0b1 0b10001 -0b10001 0b10001 0b10001 0b10001\n",
      "0o1 0o21 -0o21 0o21 0o21 0o21\n",
      "0x1 0x11 -0x11 0x11 0x11 0x11\n",
      "0.0 17.0 17.0 1.7 17.0 17.0\n",
      "0j (1.5+0j) (4.5-7.5j)\n",
      "-0j (1.5-0j) (4.5+7.5j)\n",
      "0.0 1.5 4.5\n",
      "0.0 0.0 -7.5\n",
      "1.0\n",
      "2.0\n"
     ]
    }
   ],
   "source": [
    "print(bool(True), bool(-17.8), bool('17'), bool([]), bool({}), bool(None), bool(''))\n",
    "print(int('17'), int('10001', 2), int('21', 8), int('15', 12), int('11', 16), int('h', 22))\n",
    "print(int(True), int(17), int(-17), int(0b10001), int(0o21), int(0x11), int(17.8))\n",
    "print(bin(True), bin(17), bin(-17), bin(0b10001), bin(0o21), bin(0x11))\n",
    "print(oct(True), oct(17), oct(-17), oct(0b10001), oct(0o21), oct(0x11))\n",
    "print(hex(True), hex(17), hex(-17), hex(0b10001), hex(0o21), hex(0x11))\n",
    "print(float(False), float(17), float(17.), float(17e-1), float(0.17E2), float('170E-1'))\n",
    "print(complex(0), complex(1.5), complex(4.5, -7.5))\n",
    "print(complex(0).conjugate(), complex(1.5).conjugate(), complex(4.5, -7.5).conjugate())\n",
    "print(complex(0).real, complex(1.5).real, complex(4.5, -7.5).real)\n",
    "print(complex(0).imag, complex(1.5).imag, complex(4.5, -7.5).imag)\n",
    "print(complex(1).real)\n",
    "print(complex(2.1,2).imag)"
   ]
  },
  {
   "cell_type": "markdown",
   "metadata": {},
   "source": [
    "### 1.3 Operations on numbers"
   ]
  },
  {
   "cell_type": "code",
   "execution_count": 36,
   "metadata": {
    "scrolled": true
   },
   "outputs": [
    {
     "name": "stdout",
     "output_type": "stream",
     "text": [
      "3.8 2 3.8\n",
      "-4 -4 -3 3 4 4\n",
      "-3.123 -3.1235 3.1235 3.123\n",
      "(2, 3) (-3.0, 2.0) (-3.0, -2.0) (2.0, -3.0) (1.0, 1.5)\n",
      "8 -0.5 0.5 (6.123233995736766e-17+1j) 1.0 (0.20787957635076193+0j)\n",
      "1 2 2 3\n"
     ]
    }
   ],
   "source": [
    "print(abs(-3.8), abs(-2), abs(3.8))\n",
    "print(round(-3.6), round(-3.5), round(-3.4), round(3.4), round(3.5), round(3.6))\n",
    "print(round(-3.1235, 3), round(-3.123456, 4), round(3.123456, 4), round(3.1235, 3))\n",
    "print(divmod(13, 5), divmod(-13., 5), divmod(13., -5.), divmod(-13, -5.), divmod(3.5, 2))\n",
    "print(pow(2, 3), pow(-2., -1), pow(4, -0.5), pow(-1, 0.5), pow(-3.8, 0), pow(1j, 1j))  # x ** y\n",
    "print(pow(-2, 3, 3), pow(-2, 3, 5), pow(2, 3, 3), pow(2, 3, 5))   # x ** y % z"
   ]
  },
  {
   "cell_type": "markdown",
   "metadata": {},
   "source": [
    "### 1.4 Strings"
   ]
  },
  {
   "cell_type": "code",
   "execution_count": 41,
   "metadata": {
    "scrolled": true
   },
   "outputs": [
    {
     "name": "stdout",
     "output_type": "stream",
     "text": [
      "99 247 8226 9731\n",
      "c ÷ • ☃\n",
      "'\\xc7a me tient \\u221ement \\xe0 c\\u0153ur\\t'\n",
      "'A string' A string\n",
      "52.25\n",
      "Input your message: 123\n",
      "Your message is: 123\n"
     ]
    }
   ],
   "source": [
    "print(ord('c'), ord('\\xf7'), ord('•'), ord('\\u2603'))\n",
    "print(chr(99), chr(247), chr(8226), chr(9731))\n",
    "print(ascii('Ça me tient ∞ment à cœur\\t'))\n",
    "print(repr('A string'), str('A string'))\n",
    "a = 2; b = 4.5\n",
    "print(eval('(a + 3.5) * (b + 5.)'))\n",
    "message = input('Input your message: ')\n",
    "print('Your message is:', message)"
   ]
  },
  {
   "cell_type": "markdown",
   "metadata": {},
   "source": [
    "### 1.5 Creating and processing iteratables"
   ]
  },
  {
   "cell_type": "code",
   "execution_count": 54,
   "metadata": {},
   "outputs": [
    {
     "name": "stdout",
     "output_type": "stream",
     "text": [
      "(0, 1, 2, 3) (4, 5, 6, 7) (4, 7, 10, 13)\n",
      "() (-8, -7, -6, -5) ()\n",
      "\n",
      "1 0 1\n",
      "[(0, 40), (1, 25), (2, 10), (3, 15)]\n",
      "{3: 10, 4: 15, 5: 25, 6: 40}\n",
      "[(1, 11, 21, 31), (2, 12, 22, 32), (3, 13, 23, 33)]\n",
      "[(1, 2, 3), (11, 12, 13), (21, 22, 23), (31, 32, 33)]\n",
      "[[1, 2, 3], [4, 5, 6, 7, 8], [9, 10], [11]]\n",
      "{16, 12, 14}\n",
      "{0: 0, 1: 2, 2: 4, 3: 6, 4: 8, 5: 10}\n",
      "(True, False, False, True, True)\n",
      "['A', 'D', 'E']\n",
      "(-1, -3, -4)\n",
      "16\n",
      "16\n",
      "1\n",
      "1\n",
      "7\n",
      "7\n",
      "[0, 1, 2, 3, 4]\n",
      "[0, 4, 3, 1, 2]\n",
      "False\n",
      "True\n",
      "True\n",
      "False\n"
     ]
    }
   ],
   "source": [
    "print(tuple(range(4)), tuple(range(4, 8)), tuple(range(4, 16, 3)))\n",
    "print(tuple(range(-8)), tuple(range(-8, -4)), tuple(range(-16, -8, -3)))\n",
    "print()\n",
    "\n",
    "print(range(2, 8, 2).count(4), range(2, 8, 2).count(5), range(2, 8, 2).index(4))\n",
    "\n",
    "print(list(enumerate({10, 15, 25, 40})))\n",
    "print(dict(enumerate((10, 15, 25, 40), 3)))\n",
    "\n",
    "print(list(zip([1, 2, 3, 4], [11, 12, 13], [21, 22, 23, 24, 25], [31, 32, 33])))\n",
    "print(list(zip(*zip([1, 2, 3, 4], [11, 12, 13], [21, 22, 23, 24, 25], [31, 32, 33]))))\n",
    "\n",
    "print(list(map(sorted,\n",
    "               [(1, 2, 3), (7, 5, 4, 6, 8), (10, 9), (11,)])))\n",
    "print(set(map(int.__add__,\n",
    "              [1, 2, 3, 4, 5], [11, 12, 13])))\n",
    "print(dict(map(lambda x: (x, 2 * x),\n",
    "               (0, 1, 2, 3, 4, 5))))\n",
    "print(tuple(map(lambda x, y, z: len({x, y, z}) == 2,\n",
    "                [1, 20, 30, -4, 5, 60], [-1, 20, 31, 4, 5], [1, 20, 32, 4, -5, 61, 70])))\n",
    "\n",
    "print(list(filter(str.isupper,\n",
    "                 {'A': 1, 'b': 2, 'c': 3, 'D': 4, 'E': 5})))\n",
    "print(tuple(filter(lambda x: x < 10,\n",
    "                [-1, 20, -3, -4, 50, 60])))\n",
    "\n",
    "print(sum([3, 1, 7, 5]))\n",
    "print(sum({3: 1, 1: 1, 7: 2, 5: 3}))\n",
    "\n",
    "print(min((3, 1, 7, 5)))\n",
    "# min() accepts also an arbitrary number of arguments\n",
    "print(min(3, 1, 7, 5))\n",
    "\n",
    "print(max({3 : 10, 1: 10, 7: 10, 5: 10}))\n",
    "# max() accepts also an arbitrary number of arguments\n",
    "print(max(3, 1, 7, 5))\n",
    "\n",
    "print(sorted([2, 1, 3, 4, 0]))\n",
    "print(list(reversed((2, 1, 3, 4, 0))))\n",
    "\n",
    "print(any([0, 0, 0, 0, 0]))\n",
    "print(any((1, 0, 0, 1, 0)))\n",
    "\n",
    "print(all({5, 2, 3, 1, 4}))\n",
    "print(all({5: 1, 2: 1, 3: 1, 0: 1, 4: 4}))"
   ]
  },
  {
   "cell_type": "markdown",
   "metadata": {},
   "source": [
    "## class"
   ]
  },
  {
   "cell_type": "code",
   "execution_count": 4,
   "metadata": {},
   "outputs": [
    {
     "name": "stdout",
     "output_type": "stream",
     "text": [
      "B\n",
      "A\n",
      "T\n"
     ]
    }
   ],
   "source": [
    "class A:\n",
    "    def fun(self):\n",
    "        super().fun()  # 这里的super()不是只能指父类\n",
    "        print('A')\n",
    "        \n",
    "class B:\n",
    "    def fun(self):\n",
    "        print('B')\n",
    "        \n",
    "class T(A, B):\n",
    "    def fun(self):\n",
    "        super().fun()  # A里面fun调用super()，A没有父类，所以调用T的继承父类的一个链接，变成调用B\n",
    "        print('T')\n",
    "\n",
    "t = T()\n",
    "t.fun()"
   ]
  },
  {
   "cell_type": "code",
   "execution_count": 8,
   "metadata": {},
   "outputs": [
    {
     "name": "stdout",
     "output_type": "stream",
     "text": [
      "3\n",
      "2\n",
      "2\n",
      "['x']\n",
      "['y']\n",
      "['x']\n"
     ]
    }
   ],
   "source": [
    "class T:\n",
    "    i = 1\n",
    "    lst = []\n",
    "    \n",
    "t1 = T()\n",
    "t2 = T()\n",
    "t1.i = 3\n",
    "T.i = 2  # 修改了t2的i值\n",
    "print(t1.i)\n",
    "print(t2.i)\n",
    "print(T.i)\n",
    "\n",
    "t2.lst.append('x')  # 修改了t1和T的lst\n",
    "t2.lst = ['y']\n",
    "print(t1.lst)\n",
    "print(t2.lst)\n",
    "print(T.lst)"
   ]
  },
  {
   "cell_type": "markdown",
   "metadata": {},
   "source": [
    "## Bisect  \n",
    "寻找维持list排序的index"
   ]
  },
  {
   "cell_type": "code",
   "execution_count": 20,
   "metadata": {},
   "outputs": [
    {
     "name": "stdout",
     "output_type": "stream",
     "text": [
      "3\n",
      "3\n",
      "1\n",
      "4\n",
      "1\n",
      "[1, 2, 2, 2, 3, 3, 3]\n",
      "[1, 2, 2, 2, 2, 3, 3, 3]\n",
      "[1, 2, 2, 2, 2, 2, 3, 3, 3]\n",
      "[1, 2, 2, 2, 2, 2, 3, 2, 3, 3]\n",
      "[1, 2, 2, 2, 2, 6, 2, 3, 2, 3, 3]\n"
     ]
    }
   ],
   "source": [
    "import bisect\n",
    "\n",
    "L = [1, 2, 2, 3, 3, 3]\n",
    "\n",
    "print(bisect.bisect(L, 2))  # bisect默认是bisect_right\n",
    "print(bisect.bisect_right(L, 2))  # 在L中插入元素2，返回维持排序不变的最右侧的index\n",
    "print(bisect.bisect_left(L, 2))  # 在L中插入元素2，返回维持排序不变的最左侧的index\n",
    "print(bisect.bisect(L, 2, 4))  # 在L中插入元素2，返回从index4开始维持排序不变的最右侧的index\n",
    "print(bisect.bisect(L, 2, 0, 1))  # 在L中插入元素2，返回从index0到1中维持排序不变的最右侧的index\n",
    "\n",
    "bisect.insort(L, 2) # insort默认是insort_right\n",
    "print(L)\n",
    "bisect.insort_right(L, 2)  # 在L中插入元素2，维持排序不变，最右侧插入\n",
    "print(L)\n",
    "bisect.insort_left(L, 2)  # 在L中插入元素2，维持排序不变，最左侧插入\n",
    "print(L)\n",
    "bisect.insort(L, 2, 7)  # 在L中插入元素2，维持排序不变，从第7个index开始，最右侧插入\n",
    "print(L)\n",
    "bisect.insort(L, 6, 0, 5)  # 在L中插入元素6，维持排序不变，从第0个index开始到第5个index结束，最右侧插入\n",
    "print(L)"
   ]
  }
 ],
 "metadata": {
  "kernelspec": {
   "display_name": "Python 3",
   "language": "python",
   "name": "python3"
  },
  "language_info": {
   "codemirror_mode": {
    "name": "ipython",
    "version": 3
   },
   "file_extension": ".py",
   "mimetype": "text/x-python",
   "name": "python",
   "nbconvert_exporter": "python",
   "pygments_lexer": "ipython3",
   "version": "3.6.4"
  }
 },
 "nbformat": 4,
 "nbformat_minor": 2
}
