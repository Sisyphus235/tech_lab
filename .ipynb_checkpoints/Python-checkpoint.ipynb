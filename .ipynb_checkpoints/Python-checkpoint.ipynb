{
 "cells": [
  {
   "cell_type": "markdown",
   "metadata": {},
   "source": [
    "## class"
   ]
  },
  {
   "cell_type": "code",
   "execution_count": 4,
   "metadata": {},
   "outputs": [
    {
     "name": "stdout",
     "output_type": "stream",
     "text": [
      "B\n",
      "A\n",
      "T\n"
     ]
    }
   ],
   "source": [
    "class A:\n",
    "    def fun(self):\n",
    "        super().fun()  # 这里的super()不是只能指父类\n",
    "        print('A')\n",
    "        \n",
    "class B:\n",
    "    def fun(self):\n",
    "        print('B')\n",
    "        \n",
    "class T(A, B):\n",
    "    def fun(self):\n",
    "        super().fun()  # A里面fun调用super()，A没有父类，所以调用T的继承父类的一个链接，变成调用B\n",
    "        print('T')\n",
    "\n",
    "t = T()\n",
    "t.fun()"
   ]
  },
  {
   "cell_type": "code",
   "execution_count": 8,
   "metadata": {},
   "outputs": [
    {
     "name": "stdout",
     "output_type": "stream",
     "text": [
      "3\n",
      "2\n",
      "2\n",
      "['x']\n",
      "['y']\n",
      "['x']\n"
     ]
    }
   ],
   "source": [
    "class T:\n",
    "    i = 1\n",
    "    lst = []\n",
    "    \n",
    "t1 = T()\n",
    "t2 = T()\n",
    "t1.i = 3\n",
    "T.i = 2  # 修改了t2的i值\n",
    "print(t1.i)\n",
    "print(t2.i)\n",
    "print(T.i)\n",
    "\n",
    "t2.lst.append('x')  # 修改了t1和T的lst\n",
    "t2.lst = ['y']\n",
    "print(t1.lst)\n",
    "print(t2.lst)\n",
    "print(T.lst)"
   ]
  },
  {
   "cell_type": "markdown",
   "metadata": {},
   "source": [
    "## Bisect  \n",
    "寻找维持list排序的index"
   ]
  },
  {
   "cell_type": "code",
   "execution_count": 20,
   "metadata": {},
   "outputs": [
    {
     "name": "stdout",
     "output_type": "stream",
     "text": [
      "3\n",
      "3\n",
      "1\n",
      "4\n",
      "1\n",
      "[1, 2, 2, 2, 3, 3, 3]\n",
      "[1, 2, 2, 2, 2, 3, 3, 3]\n",
      "[1, 2, 2, 2, 2, 2, 3, 3, 3]\n",
      "[1, 2, 2, 2, 2, 2, 3, 2, 3, 3]\n",
      "[1, 2, 2, 2, 2, 6, 2, 3, 2, 3, 3]\n"
     ]
    }
   ],
   "source": [
    "import bisect\n",
    "\n",
    "L = [1, 2, 2, 3, 3, 3]\n",
    "\n",
    "print(bisect.bisect(L, 2))  # bisect默认是bisect_right\n",
    "print(bisect.bisect_right(L, 2))  # 在L中插入元素2，返回维持排序不变的最右侧的index\n",
    "print(bisect.bisect_left(L, 2))  # 在L中插入元素2，返回维持排序不变的最左侧的index\n",
    "print(bisect.bisect(L, 2, 4))  # 在L中插入元素2，返回从index4开始维持排序不变的最右侧的index\n",
    "print(bisect.bisect(L, 2, 0, 1))  # 在L中插入元素2，返回从index0到1中维持排序不变的最右侧的index\n",
    "\n",
    "bisect.insort(L, 2) # insort默认是insort_right\n",
    "print(L)\n",
    "bisect.insort_right(L, 2)  # 在L中插入元素2，维持排序不变，最右侧插入\n",
    "print(L)\n",
    "bisect.insort_left(L, 2)  # 在L中插入元素2，维持排序不变，最左侧插入\n",
    "print(L)\n",
    "bisect.insort(L, 2, 7)  # 在L中插入元素2，维持排序不变，从第7个index开始，最右侧插入\n",
    "print(L)\n",
    "bisect.insort(L, 6, 0, 5)  # 在L中插入元素6，维持排序不变，从第0个index开始到第5个index结束，最右侧插入\n",
    "print(L)"
   ]
  }
 ],
 "metadata": {
  "kernelspec": {
   "display_name": "Python 3",
   "language": "python",
   "name": "python3"
  },
  "language_info": {
   "codemirror_mode": {
    "name": "ipython",
    "version": 3
   },
   "file_extension": ".py",
   "mimetype": "text/x-python",
   "name": "python",
   "nbconvert_exporter": "python",
   "pygments_lexer": "ipython3",
   "version": "3.6.4"
  }
 },
 "nbformat": 4,
 "nbformat_minor": 2
}
